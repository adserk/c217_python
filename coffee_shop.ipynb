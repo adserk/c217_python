{
 "cells": [
  {
   "cell_type": "code",
   "execution_count": 32,
   "metadata": {},
   "outputs": [
    {
     "name": "stdout",
     "output_type": "stream",
     "text": [
      "You chose small size\n",
      "You chose espresso\n",
      "Type price is 0.5\n",
      "You want flavoured syrup\n",
      "You asked for a small cup of espresso with vanilla syrup\n",
      "Your cup of coffee cost 3.0\n",
      "The price with a tip is 3.45\n"
     ]
    }
   ],
   "source": [
    "size = input (\"Do you want small, medium or large?\")\n",
    "\n",
    "sizes = [\"small\", \"medium\", \"large\"]\n",
    "size_prices = [2, 3, 4]\n",
    "\n",
    "\n",
    "if size == sizes[0]:\n",
    "    size = sizes[0]\n",
    "    size_price = int (size_prices[0])\n",
    "elif size == sizes[1]:\n",
    "    size = sizes[1]\n",
    "    size_price = int (size_prices[1])\n",
    "elif size == sizes[2]:\n",
    "    size = sizes[2]\n",
    "    size_price = int (size_prices[2])\n",
    "print (\"You chose\", size + \" size\")\n",
    "\n",
    "type = input (\"Do you want brewed, espresso, or cold press?\")\n",
    "\n",
    "types = [\"brewed\", \"espresso\", \"cold brew\"]\n",
    "type_prices = ['0', '0.5', '1']\n",
    "\n",
    "if type == types[0]:\n",
    "    type = types[0]\n",
    "    type_price = float (type_prices[0])\n",
    "elif type == types[1]:\n",
    "    type = types[1]\n",
    "    type_price = float (type_prices[1])\n",
    "elif type == types[3]:\n",
    "    type = types[3]\n",
    "    type_price = float (type_prices[3])\n",
    "\n",
    "print (\"You chose\", type )\n",
    "print (\"Type price is\", type_price)\n",
    "\n",
    "flavoring_prices = [0.5, 0]\n",
    "flavoring = input (\"Do you want flavoured syrup?\")\n",
    "if flavoring == \"yes\":\n",
    "    print (\"You want flavoured syrup\")\n",
    "    flavor = input (\"Do you want hazelnut, vanilla or caramel?\")\n",
    "    flavor_price = float(flavoring_prices[0])\n",
    "    \n",
    "else:\n",
    "    print (\"You don't want flavoured syrun\")\n",
    "    flavor_price = float(flavoring_prices[1])\n",
    "print ( \"You asked for a \" + size + \" cup of \" + type + \" with \" + flavor + \" syrup\"  )\n",
    "price = size_price + type_price + flavor_price \n",
    "print (\"Your cup of coffee cost\", price)\n",
    "\n",
    "tip_price = round (price * 1.15, 2 )\n",
    " \n",
    "print (\"The price with a tip is\", tip_price)\n"
   ]
  },
  {
   "cell_type": "code",
   "execution_count": 7,
   "metadata": {},
   "outputs": [
    {
     "name": "stdout",
     "output_type": "stream",
     "text": [
      "correct\n"
     ]
    }
   ],
   "source": []
  },
  {
   "cell_type": "code",
   "execution_count": 9,
   "metadata": {},
   "outputs": [
    {
     "name": "stdout",
     "output_type": "stream",
     "text": [
      "<re.Match object; span=(0, 5), match='small'>\n",
      "True\n"
     ]
    }
   ],
   "source": [
    "import re\n",
    "size = input (\"Do you want small, medium or large?\")\n",
    "\n",
    "sizes = [\"small\", \"medium\", \"large\"]\n",
    "size_prices = [2, 3, 4]\n",
    "\n",
    "\n",
    "x1 = re.search(size, sizes[0], re.IGNORECASE)\n",
    "x2 = re.search(size, sizes[1], re.IGNORECASE)\n",
    "x3 = re.search(size, sizes[2], re.IGNORECASE)\n",
    "if x1:\n",
    "    print (True)"
   ]
  },
  {
   "cell_type": "code",
   "execution_count": 12,
   "metadata": {},
   "outputs": [
    {
     "name": "stdout",
     "output_type": "stream",
     "text": [
      "You chose large size\n",
      "You chose Cold Press\n",
      "Type price is 0.5\n",
      "You want flavoured syrup\n",
      "You asked for a large cup of Cold Press with Caramel syrup\n",
      "Your cup of coffee cost 5.0\n",
      "The price with a tip is 5.75\n"
     ]
    }
   ],
   "source": [
    "size = input (\"Do you want small, medium or large?\")\n",
    "\n",
    "sizes = [\"small\", \"medium\", \"large\"]\n",
    "size_prices = [2, 3, 4]\n",
    "x0 = re.search(size, sizes[0], re.IGNORECASE)\n",
    "x1 = re.search(size, sizes[1], re.IGNORECASE)\n",
    "x2 = re.search(size, sizes[2], re.IGNORECASE)\n",
    "\n",
    "if x0:\n",
    "    size = sizes[0]\n",
    "    size_price = int (size_prices[0])\n",
    "elif x1:\n",
    "    size = sizes[1]\n",
    "    size_price = int (size_prices[1])\n",
    "elif x2:\n",
    "    size = sizes[2]\n",
    "    size_price = int (size_prices[2])\n",
    "print (\"You chose\", size + \" size\")\n",
    "\n",
    "type = input (\"Do you want brewed, espresso, or cold press?\")\n",
    "\n",
    "types = [\"brewed\", \"espresso\", \"cold brew\"]\n",
    "type_prices = ['0', '0.5', '1']\n",
    "y0 = re.search(type, types[0], re.IGNORECASE)\n",
    "y1 = re.search(type, types[1], re.IGNORECASE)\n",
    "y2 = re.search(type, types[2], re.IGNORECASE)\n",
    "\n",
    "if y0:\n",
    "    type = types[0]\n",
    "    type_price = float (type_prices[0])\n",
    "elif y1:\n",
    "    type = types[1]\n",
    "    type_price = float (type_prices[1])\n",
    "elif y2:\n",
    "    type = types[3]\n",
    "    type_price = float (type_prices[3])\n",
    "\n",
    "print (\"You chose\", type )\n",
    "print (\"Type price is\", type_price)\n",
    "\n",
    "flavoring_prices = [0.5, 0]\n",
    "flavoring = input (\"Do you want flavoured syrup?\")\n",
    "flavorings = [\"yes\", \"no\"]\n",
    "z0 = re.search(flavoring, flavorings[0], re.IGNORECASE)\n",
    "\n",
    "if z0:\n",
    "    print (\"You want flavoured syrup\")\n",
    "    flavor = input (\"Do you want hazelnut, vanilla or caramel?\")\n",
    "    flavor_price = float(flavoring_prices[0])\n",
    "    \n",
    "else:\n",
    "    print (\"You don't want flavoured syrun\")\n",
    "    flavor_price = float(flavoring_prices[1])\n",
    "print ( \"You asked for a \" + size + \" cup of \" + type + \" with \" + flavor + \" syrup\"  )\n",
    "price = size_price + type_price + flavor_price \n",
    "print (\"Your cup of coffee cost\", price)\n",
    "\n",
    "tip_price = round (price * 1.15, 2 )\n",
    " \n",
    "print (\"The price with a tip is\", tip_price)"
   ]
  },
  {
   "cell_type": "code",
   "execution_count": null,
   "metadata": {},
   "outputs": [],
   "source": []
  }
 ],
 "metadata": {
  "interpreter": {
   "hash": "a8822641e88d7c74114f38a155dc8686f9f41cc7c790ba54cfc07cc82201c3e7"
  },
  "kernelspec": {
   "display_name": "Python 3.9.7 ('base')",
   "language": "python",
   "name": "python3"
  },
  "language_info": {
   "codemirror_mode": {
    "name": "ipython",
    "version": 3
   },
   "file_extension": ".py",
   "mimetype": "text/x-python",
   "name": "python",
   "nbconvert_exporter": "python",
   "pygments_lexer": "ipython3",
   "version": "3.9.7"
  },
  "orig_nbformat": 4
 },
 "nbformat": 4,
 "nbformat_minor": 2
}
