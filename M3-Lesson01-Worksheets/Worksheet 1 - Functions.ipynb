{
 "cells": [
  {
   "cell_type": "markdown",
   "metadata": {},
   "source": [
    "# Functions\n",
    "This worksheet corresponds to *Lesson 1: Functions* in the online course. Refer to that lesson as necessary to complete the practice activities here."
   ]
  },
  {
   "cell_type": "markdown",
   "metadata": {},
   "source": [
    "## Practice 1\n",
    "Define the `find_max` function below to compute the max value from an input list of numbers. \n",
    "\n",
    "\n",
    "<!--Can we have a solution to this? I do not see how to implement this using the tools \n",
    "they have learned to this point-KW -->"
   ]
  },
  {
   "cell_type": "code",
   "execution_count": 5,
   "metadata": {},
   "outputs": [
    {
     "name": "stdout",
     "output_type": "stream",
     "text": [
      "10\n"
     ]
    }
   ],
   "source": [
    "def find_max(numbers):\n",
    "    # remove pass and define the function here\n",
    "    # pass\n",
    "    max_value = max(numbers)\n",
    "    return max_value\n",
    "# do not change this code below \n",
    "numbers = [1,5,5,7,10,1]\n",
    "print(find_max(numbers))"
   ]
  },
  {
   "cell_type": "markdown",
   "metadata": {},
   "source": [
    "## Practice 2\n",
    "Define and implement the function `find_div`, which finds all the elements that are divisible by an input value in a list of numbers. "
   ]
  },
  {
   "cell_type": "code",
   "execution_count": 9,
   "metadata": {
    "collapsed": true
   },
   "outputs": [
    {
     "name": "stdout",
     "output_type": "stream",
     "text": [
      "All numbers divisible by 3 : [9, 12]\n",
      "All numbers divisible by 2 : [10, 12]\n"
     ]
    }
   ],
   "source": [
    "def find_div(numbers,factor):\n",
    "    # remove pass and define the function here\n",
    "    lst = []\n",
    "    for i in numbers:\n",
    "        if (i%factor) == 0:\n",
    "            lst.append(i)\n",
    "    print(\"All numbers divisible by \" + str(factor)+ \" :\",lst)\n",
    "numbers = [1,5,5,7,10,1,9,12]\n",
    "find_div(numbers,3) # find all numbers divisible by 3\n",
    "find_div(numbers,2) # find all numbers divisible by 2"
   ]
  },
  {
   "cell_type": "code",
   "execution_count": 6,
   "metadata": {},
   "outputs": [
    {
     "name": "stdout",
     "output_type": "stream",
     "text": [
      "Hello kresda, how are you ?\n"
     ]
    }
   ],
   "source": [
    "def hello(name):\n",
    "    print(\"Hello %s, how are you ?\" %name)\n",
    "    return\n",
    "hello(\"kresda\")"
   ]
  },
  {
   "cell_type": "markdown",
   "metadata": {},
   "source": [
    "## Practice 3\n",
    "Fix the code below so that the `find_greater` function uses the default value 0 as the threshold value if we don't specify a different value."
   ]
  },
  {
   "cell_type": "code",
   "execution_count": 12,
   "metadata": {},
   "outputs": [
    {
     "name": "stdout",
     "output_type": "stream",
     "text": [
      "1\n",
      "5\n",
      "5\n",
      "7\n",
      "10\n",
      "1\n",
      "7\n",
      "10\n"
     ]
    }
   ],
   "source": [
    "def find_greater(numbers,threshold=0):\n",
    "    for num in numbers:\n",
    "        # we only display the numbers that are above the input threshold\n",
    "        if (num>threshold):\n",
    "            print(num)\n",
    "\n",
    "numbers = [1,5,5,7,10,1]\n",
    "find_greater(numbers) # find all numbers greater than 0\n",
    "find_greater(numbers,5) # find all numbers greater than 5"
   ]
  },
  {
   "cell_type": "markdown",
   "metadata": {},
   "source": [
    "## Practice 4\n",
    "Create a Python function `check_divisible` that has two parameters:\n",
    "* A list of numbers called `numbers`\n",
    "* An integer called `factor` with the default value 2  \n",
    "\n",
    "The function should print all of the numbers in the `numbers` list that are divisible by `factor`. "
   ]
  },
  {
   "cell_type": "code",
   "execution_count": 11,
   "metadata": {
    "collapsed": true
   },
   "outputs": [
    {
     "name": "stdout",
     "output_type": "stream",
     "text": [
      "[12, 8, 4]\n"
     ]
    }
   ],
   "source": [
    "def check_divisible(numbers, factor=2): # assign Default value of 'factor' as 2\n",
    "    #remove pass and implement your code here. \n",
    "    lst = []\n",
    "    for i in numbers:\n",
    "        if (i%factor) == 0:\n",
    "            lst.append(i)\n",
    "    print(lst)\n",
    "\n",
    "numbers = [12,5,8,9,4,5]\n",
    "# print(numbers)\n",
    "check_divisible(numbers)"
   ]
  },
  {
   "cell_type": "markdown",
   "metadata": {},
   "source": [
    "## Practice 5\n",
    "Complete the Python function below which, converts a set into a list. \n",
    "\n",
    "The `set2list` function takes a set as its parameter and returns a list that contains the elements of the set. \n",
    "\n",
    "<!-- This exercise is not clear to me.-->"
   ]
  },
  {
   "cell_type": "code",
   "execution_count": 13,
   "metadata": {
    "collapsed": true
   },
   "outputs": [
    {
     "name": "stdout",
     "output_type": "stream",
     "text": [
      "['mary', 'mark', 'jess', 'haythem']\n",
      "<class 'list'>\n"
     ]
    }
   ],
   "source": [
    "def set2list(input_set):\n",
    "    #remove pass and add your code here \n",
    "    lst = []\n",
    "    for i in input_set:\n",
    "        lst.append(i)\n",
    "    return lst\n",
    "\n",
    "\n",
    "\n",
    "s = {\"mary\",\"haythem\",\"mark\",\"jess\"}\n",
    "\n",
    "l = set2list(s)\n",
    "print(l)  # this should print the l outputted by set2list\n",
    "print(type(l)) # this should print <class 'list'>"
   ]
  },
  {
   "cell_type": "markdown",
   "metadata": {},
   "source": [
    "## Practice 6\n",
    "Create a function `compute_sum` that takes as input an indefinite number of integers and returns the sum of those numbers. \n",
    "\t\n",
    "Make sure to test the function using different numbers of input values. "
   ]
  },
  {
   "cell_type": "code",
   "execution_count": 16,
   "metadata": {
    "collapsed": true
   },
   "outputs": [
    {
     "name": "stdout",
     "output_type": "stream",
     "text": [
      "29\n"
     ]
    }
   ],
   "source": [
    "def compute_sum(numbers):\n",
    "    # remove pass and add your code here\n",
    "    total = sum(numbers)\n",
    "    return total\n",
    "\n",
    "numbers = [1,5,5,7,10,1]\n",
    "summation = compute_sum(numbers)\n",
    "print(summation) # should print 29 for [1,5,5,7,10,1]"
   ]
  },
  {
   "cell_type": "markdown",
   "metadata": {},
   "source": [
    "## Practice 7\n",
    "Create a function named `check_words` that takes as input some text and a list of words. The function should compute the frequency of occurrence of each word in the input list.\n",
    "\n",
    "The output should look like this:\n",
    "\n",
    "    {'to': 4, 'back': 0, 'the': 11, 'is': 1}\n",
    "    {'over': 1, 'level': 2, 'way': 1, 'square': 0, 'figure': 1}\n",
    "\n",
    "**Bonus**: After getting the script to work with the current text, revise the program so that the output is not case-sensitive. For example, instead of treating \"The\" and \"the\" as different words, the count should include all instances of the word \"the\" regardless of case.\n",
    "\n",
    "The text in this exercise comes from E. Abbotts' [Flatland](https://www.gutenberg.org/ebooks/201)."
   ]
  },
  {
   "cell_type": "code",
   "execution_count": 28,
   "metadata": {
    "collapsed": true
   },
   "outputs": [],
   "source": [
    "import string\n",
    "# input 1: text: string\n",
    "# argv: list of words \"to\",\"back\",\"the\",\"is\"\n",
    "# output: dictionnary, which represents {'to': 3, 'back': 1, 'the': 4, 'is': 4}\n",
    "def check_words(text,*argv):\n",
    "    # remove pass and add your code here\n",
    "    \n",
    "    s_lower = text.lower()\n",
    "    words = str.split(s_lower)\n",
    "\n",
    "    w_clean = []\n",
    "    for word in words:\n",
    "        for letter in word:\n",
    "            if letter in string.punctuation:\n",
    "                word = word.replace(letter,\"\")   \n",
    "        w_clean.append(word)\n",
    "    # The remove function only removes the first occurrence of the element to remove\n",
    "    # To remove multiple instances use while loop \n",
    "    # Remove '' from the list\n",
    "    try:\n",
    "        while True:\n",
    "            w_clean.remove('')\n",
    "    except ValueError:\n",
    "        pass\n",
    "    word_freq = dict()\n",
    "    # Create a dictionary of words as key and count as value, starting with zero first\n",
    "    for i in w_clean:\n",
    "        word_freq[i] = 0\n",
    "\n",
    "    # Loop through the list of words and if the word appears as a key in the dictionary append 1 to the value\n",
    "    for i in w_clean:\n",
    "        if i in word_freq:\n",
    "            word_freq[i] += 1\n",
    "    \n",
    "    print(\"Word Frequency: \", word_freq)\n",
    "    print(\"\\n\")\n",
    "    word_count = len(w_clean)\n",
    "    print(\"Word Count: \", word_count)\n",
    "\n",
    "    new_dict = dict()\n",
    "    for key, value in word_freq.items():\n",
    "        if key in argv:\n",
    "            new_dict[key] = value\n",
    "    print(new_dict)\n",
    "    return new_dict\n"
   ]
  },
  {
   "cell_type": "code",
   "execution_count": 29,
   "metadata": {},
   "outputs": [
    {
     "name": "stdout",
     "output_type": "stream",
     "text": [
      "Word Frequency:  {'the': 12, 'same': 2, 'thing': 1, 'would': 4, 'happen': 1, 'if': 3, 'you': 8, 'were': 4, 'to': 4, 'treat': 1, 'in': 3, 'way': 1, 'a': 5, 'triangle': 1, 'or': 3, 'square': 1, 'any': 1, 'other': 1, 'figure': 2, 'cut': 1, 'out': 1, 'of': 4, 'pasteboard': 1, 'as': 4, 'soon': 1, 'look': 1, 'at': 1, 'it': 3, 'with': 2, 'your': 3, 'eye': 3, 'on': 4, 'edge': 1, 'table': 3, 'will': 1, 'find': 1, 'that': 3, 'ceases': 1, 'appear': 1, 'and': 4, 'becomes': 1, 'appearance': 1, 'straight': 2, 'line': 2, 'take': 1, 'for': 1, 'example': 1, 'an': 1, 'equilateral': 1, 'triangle—who': 1, 'represents': 2, 'us': 1, 'tradesman': 3, 'respectable': 1, 'class': 1, 'fig': 1, '1': 1, 'see': 4, 'him': 4, 'while': 1, 'bending': 1, 'over': 1, 'from': 1, 'above': 1, 'figs': 1, '2': 1, '3': 1, 'represent': 1, 'close': 1, 'level': 3, 'all': 1, 'but': 2, 'quite': 1, 'is': 1, 'how': 1, 'we': 1, 'flatland': 1, 'nothing': 1}\n",
      "\n",
      "\n",
      "Word Count:  154\n",
      "{'the': 12, 'to': 4, 'is': 1}\n",
      "{'the': 12, 'to': 4, 'is': 1}\n",
      "Word Frequency:  {'the': 12, 'same': 2, 'thing': 1, 'would': 4, 'happen': 1, 'if': 3, 'you': 8, 'were': 4, 'to': 4, 'treat': 1, 'in': 3, 'way': 1, 'a': 5, 'triangle': 1, 'or': 3, 'square': 1, 'any': 1, 'other': 1, 'figure': 2, 'cut': 1, 'out': 1, 'of': 4, 'pasteboard': 1, 'as': 4, 'soon': 1, 'look': 1, 'at': 1, 'it': 3, 'with': 2, 'your': 3, 'eye': 3, 'on': 4, 'edge': 1, 'table': 3, 'will': 1, 'find': 1, 'that': 3, 'ceases': 1, 'appear': 1, 'and': 4, 'becomes': 1, 'appearance': 1, 'straight': 2, 'line': 2, 'take': 1, 'for': 1, 'example': 1, 'an': 1, 'equilateral': 1, 'triangle—who': 1, 'represents': 2, 'us': 1, 'tradesman': 3, 'respectable': 1, 'class': 1, 'fig': 1, '1': 1, 'see': 4, 'him': 4, 'while': 1, 'bending': 1, 'over': 1, 'from': 1, 'above': 1, 'figs': 1, '2': 1, '3': 1, 'represent': 1, 'close': 1, 'level': 3, 'all': 1, 'but': 2, 'quite': 1, 'is': 1, 'how': 1, 'we': 1, 'flatland': 1, 'nothing': 1}\n",
      "\n",
      "\n",
      "Word Count:  154\n",
      "{'way': 1, 'square': 1, 'figure': 2, 'over': 1, 'level': 3}\n",
      "{'way': 1, 'square': 1, 'figure': 2, 'over': 1, 'level': 3}\n"
     ]
    }
   ],
   "source": [
    "text = \"\"\"The same thing would happen if you were to treat in the same way a Triangle, or Square, \n",
    "or any other figure cut out of pasteboard. As soon as you look at it with your eye on the edge on \n",
    "the table, you will find that it ceases to appear to you a figure, and that it becomes in appearance \n",
    "a straight line. Take for example an equilateral Triangle—who represents with us a Tradesman of \n",
    "the respectable class. Fig. 1 represents the Tradesman as you would see him while you were bending \n",
    "over him from above; figs. 2 and 3 represent the Tradesman, as you would see him if your eye were \n",
    "close to the level, or all but on the level of the table; and if your eye were quite on the level \n",
    "of the table (and that is how we see him in Flatland) you would see nothing but a straight line. \"\"\"\n",
    "\n",
    "\n",
    "words = check_words(text,\"to\",\"back\",\"the\",\"is\")\n",
    "print(words) \n",
    "\n",
    "words = check_words(text,\"over\",\"level\",\"way\",\"square\",\"figure\")\n",
    "print(words) "
   ]
  },
  {
   "cell_type": "markdown",
   "metadata": {},
   "source": [
    "## Practice 8\n",
    "Create a function that takes as input a variable number of keyword arguments using the following pattern:\n",
    "\n",
    "    word_1=value, word_2=value,...,word_n = value\n",
    "    \n",
    "The function should return the word with the highest corresponding value, with the word and value in a tuple. Using the example data included in the code below, the result would be `word_3 6`."
   ]
  },
  {
   "cell_type": "code",
   "execution_count": 47,
   "metadata": {
    "collapsed": true
   },
   "outputs": [
    {
     "name": "stdout",
     "output_type": "stream",
     "text": [
      "{'word_1': 1, 'word_2': 3, 'word_3': 6, 'word_4': 5}\n",
      "word_1\n",
      "1\n",
      "word_2\n",
      "3\n",
      "word_3\n",
      "6\n",
      "word_4\n",
      "5\n",
      "word_4 5\n"
     ]
    }
   ],
   "source": [
    "def compute_max_value(**kwargs): # **kwargs stores input as key,value pairs in a dictionary\n",
    "    print(kwargs)\n",
    "    for key,value in kwargs.items():  \n",
    "        print(key)\n",
    "        print(value)\n",
    "    return key,value\n",
    "\n",
    "(word,freq) = compute_max_value(word_1 = 1,word_2 = 3,word_3 = 6,word_4 = 5)\n",
    "print(word,freq) # should return  word_3 6 for input word_1=1,word_2=3,word_3=6,word_4=5"
   ]
  },
  {
   "cell_type": "code",
   "execution_count": 51,
   "metadata": {},
   "outputs": [
    {
     "name": "stdout",
     "output_type": "stream",
     "text": [
      "word_3\n",
      "<class 'dict'>\n"
     ]
    }
   ],
   "source": [
    "words = {\n",
    "    \"word_1\" : 1,\n",
    "    \"word_2\" : 3,\n",
    "    \"word_3\" : 6,\n",
    "    \"word_4\" : 5\n",
    "}\n",
    "max_value = max(words, key=words.get)\n",
    "print(max_value)\n",
    "print(type(words))"
   ]
  },
  {
   "cell_type": "code",
   "execution_count": 62,
   "metadata": {},
   "outputs": [
    {
     "name": "stdout",
     "output_type": "stream",
     "text": [
      "{'word_1': 1, 'word_2': 3, 'word_3': 6, 'word_4': 5}\n",
      "<class 'dict'>\n",
      "word_3\n",
      "word_3 6\n"
     ]
    }
   ],
   "source": [
    "# Return the word with the highest value in a dictionary\n",
    "\n",
    "def compute_max_value(**kwargs): # **kwargs stores input as key,value pairs in a dictionary\n",
    "    print(kwargs)\n",
    "    print(type(kwargs))\n",
    "    max_word = max(kwargs, key=kwargs.get)\n",
    "    print(max_word)\n",
    "    max_value = kwargs[max_word]\n",
    "    return max_word, max_value\n",
    "\n",
    "(word,freq) = compute_max_value(word_1 = 1,word_2 = 3,word_3 = 6,word_4 = 5)\n",
    "print(word,freq) # should return  word_3 6 for input word_1=1,word_2=3,word_3=6,word_4=5"
   ]
  },
  {
   "cell_type": "markdown",
   "metadata": {},
   "source": [
    "## Practice 9\n",
    "Create a function that takes as input three numbers named `number_1`, `number_2`, and `number_3`. \n",
    "\n",
    "The function should return one number derived as a concatenation of the input numbers in the order `number_1number_2number_3`.  \n",
    "\n",
    "For example, if we start with the following values:\n",
    "* `number_1 = 5`\n",
    "* `number_2 = 5`\n",
    "* `number_3 = 14`\n",
    "\n",
    "The output should be `5514` regardless of the order in which the values are identified in the function."
   ]
  },
  {
   "cell_type": "code",
   "execution_count": 32,
   "metadata": {
    "collapsed": true
   },
   "outputs": [
    {
     "name": "stdout",
     "output_type": "stream",
     "text": [
      "5514\n"
     ]
    }
   ],
   "source": [
    "def concat_numbers(number_1,number_2,number_3):\n",
    "\n",
    "    return str(number_1)+str(number_2)+str(number_3)\n",
    "\n",
    "\n",
    "concat_number = concat_numbers(number_2 = 5, number_3 = 14, number_1 = 5)\n",
    "print(concat_number)"
   ]
  },
  {
   "cell_type": "code",
   "execution_count": null,
   "metadata": {},
   "outputs": [],
   "source": []
  }
 ],
 "metadata": {
  "kernelspec": {
   "display_name": "Python 3",
   "language": "python",
   "name": "python3"
  },
  "language_info": {
   "codemirror_mode": {
    "name": "ipython",
    "version": 3
   },
   "file_extension": ".py",
   "mimetype": "text/x-python",
   "name": "python",
   "nbconvert_exporter": "python",
   "pygments_lexer": "ipython3",
   "version": "3.9.7"
  }
 },
 "nbformat": 4,
 "nbformat_minor": 2
}
