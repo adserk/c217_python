{
 "cells": [
  {
   "cell_type": "markdown",
   "metadata": {},
   "source": [
    "# Worksheet: CSV Files \n",
    "This worksheet corresponds to *Lesson 3B: CSV Files* in the online course. Refer to that page as necessary to complete the practice activities here."
   ]
  },
  {
   "cell_type": "markdown",
   "metadata": {},
   "source": [
    "## Practice 1\n",
    "The file in Example 1 is a shortened version of a much longer file named *stocks.csv*. Each row of data includes values for a specific stock item, including:\n",
    "* Date: The date of the following data\n",
    "* Open: The opening price on that date\n",
    "* High: The highest price on that date\n",
    "* Low: The lowest price on that date\n",
    "* Close: The closing price on that date\n",
    "* Volume: The number of shares traded on that date\n",
    "\n",
    "Using the full version of the file, complete the code below to compute and display the average opening price for all stock items. Close the file after performing the calculations."
   ]
  },
  {
   "cell_type": "code",
   "execution_count": 5,
   "metadata": {},
   "outputs": [
    {
     "name": "stdout",
     "output_type": "stream",
     "text": [
      "Date\n",
      "7/7/2006\n",
      "7/10/2006\n",
      "7/11/2006\n",
      "7/12/2006\n",
      "7/13/2006\n",
      "7/14/2006\n",
      "7/17/2006\n",
      "7/18/2006\n",
      "7/19/2006\n",
      "7/20/2006\n"
     ]
    }
   ],
   "source": [
    "import csv\n",
    " \n",
    "# use open function to read the C.csv file and create a file object f\n",
    "with open('FileIO-DataFiles/stocks_short.csv') as f: \n",
    " \n",
    "    # use the reader class under the csv module to read the file using comma as the delimiter\n",
    "    csv_file = csv.reader(f, delimiter=',')\n",
    " \n",
    "    # csv_file is an iterable object that we can iterate on using a for loop\n",
    "    for row in csv_file:\n",
    "        # print(row) # print entire row\n",
    "        print(row[0]) # print first column\n",
    "        # print(row[1]) # print second column\n",
    " \n",
    "f.close()"
   ]
  },
  {
   "cell_type": "code",
   "execution_count": 5,
   "metadata": {
    "collapsed": true
   },
   "outputs": [],
   "source": [
    "import csv\n",
    "\n",
    "# use open function to read the C.csv file and create a file object f\n",
    "with open('data/stocks.csv') as f: \n",
    "    \n",
    "    # use the reader class under the csv module to read the file using comma as the delimiter\n",
    "    csv_file = csv.reader(f, delimiter=',') \n",
    "    \n",
    "    # csv_file is an iterable object that we can iterate on using a for loop\n",
    "    for row in csv_file:\n",
    "        #remove pass and add code here\n",
    "        pass"
   ]
  },
  {
   "cell_type": "markdown",
   "metadata": {},
   "source": [
    "## Practice 2\n",
    "Complete the code below to determine the largest volume of sales in the dataset."
   ]
  },
  {
   "cell_type": "code",
   "execution_count": 17,
   "metadata": {
    "collapsed": true
   },
   "outputs": [],
   "source": [
    "import csv\n",
    "with open('data/stocks.csv') as f: \n",
    "    \n",
    "    csv_file = csv.DictReader(f, delimiter=',') \n",
    "    \n",
    "    for row in csv_file:\n",
    "        pass"
   ]
  },
  {
   "cell_type": "code",
   "execution_count": 6,
   "metadata": {},
   "outputs": [
    {
     "name": "stdout",
     "output_type": "stream",
     "text": [
      "{'Date': '7/7/2006', 'Open': '492.7', 'High': '495.9', 'Low': '490.0999', 'Close': '490.8', 'Volume': '807950'}\n",
      "{'Date': '7/10/2006', 'Open': '493.3', 'High': '496.4', 'Low': '491.0001', 'Close': '493.4', 'Volume': '838869'}\n",
      "{'Date': '7/11/2006', 'Open': '493.4', 'High': '496.7999', 'Low': '488.6', 'Close': '496.0001', 'Volume': '816880'}\n",
      "{'Date': '7/12/2006', 'Open': '495.2', 'High': '497.3', 'Low': '487.1001', 'Close': '488.3', 'Volume': '1374150'}\n",
      "{'Date': '7/13/2006', 'Open': '488', 'High': '488', 'Low': '478.3', 'Close': '478.7', 'Volume': '1633189'}\n",
      "{'Date': '7/14/2006', 'Open': '478.5001', 'High': '480.0999', 'Low': '474.1', 'Close': '475.8', 'Volume': '1539689'}\n",
      "{'Date': '7/17/2006', 'Open': '469.1', 'High': '469.5', 'Low': '463.3', 'Close': '463.9999', 'Volume': '3265409'}\n",
      "{'Date': '7/18/2006', 'Open': '464.2', 'High': '468.9999', 'Low': '462.2', 'Close': '465.5', 'Volume': '1655100'}\n",
      "{'Date': '7/19/2006', 'Open': '468.5001', 'High': '475.0999', 'Low': '468.3', 'Close': '472.5', 'Volume': '2621339'}\n",
      "{'Date': '7/20/2006', 'Open': '472.5', 'High': '474.5', 'Low': '470.5', 'Close': '471.1', 'Volume': '1597130'}\n"
     ]
    }
   ],
   "source": [
    "import csv\n",
    " \n",
    "# use open function to read the C.csv file and create a file object f\n",
    "with open('FileIO-DataFiles/stocks_short.csv') as f: \n",
    " \n",
    "    # use the DictReader function under the csv module to read the \n",
    "    # file using comma as the delimiter\n",
    "    csv_file = csv.DictReader(f, delimiter=',') \n",
    " \n",
    "    # csv_file is an iterable object that we can iterate on using a for loop\n",
    "    for row in csv_file:\n",
    "        print(row) #print entire row\n",
    " \n",
    "f.close()"
   ]
  },
  {
   "cell_type": "markdown",
   "metadata": {},
   "source": [
    "## Practice 3\n",
    "Complete the code to compute the largest closing price across the dataset. "
   ]
  },
  {
   "cell_type": "code",
   "execution_count": 25,
   "metadata": {
    "collapsed": true
   },
   "outputs": [],
   "source": [
    "def read_csv(filepath,delimiter=\",\"):\n",
    "    import csv\n",
    "    dataset = list()\n",
    "    with open(filepath) as f: \n",
    "        csv_file = csv.DictReader(f, delimiter=delimiter) \n",
    "        for row in csv_file:\n",
    "            dataset.append(row)\n",
    "    return dataset\n",
    "\n",
    "dataset = read_csv(\"data/stocks.csv\")\n",
    "\n",
    "# your code here "
   ]
  },
  {
   "cell_type": "code",
   "execution_count": 7,
   "metadata": {},
   "outputs": [
    {
     "name": "stdout",
     "output_type": "stream",
     "text": [
      "10\n",
      "{'Date': '7/7/2006', 'Open': '492.7', 'High': '495.9', 'Low': '490.0999', 'Close': '490.8', 'Volume': '807950'}\n",
      "[{'Date': '7/7/2006', 'Open': '492.7', 'High': '495.9', 'Low': '490.0999', 'Close': '490.8', 'Volume': '807950'}, {'Date': '7/10/2006', 'Open': '493.3', 'High': '496.4', 'Low': '491.0001', 'Close': '493.4', 'Volume': '838869'}, {'Date': '7/11/2006', 'Open': '493.4', 'High': '496.7999', 'Low': '488.6', 'Close': '496.0001', 'Volume': '816880'}, {'Date': '7/12/2006', 'Open': '495.2', 'High': '497.3', 'Low': '487.1001', 'Close': '488.3', 'Volume': '1374150'}, {'Date': '7/13/2006', 'Open': '488', 'High': '488', 'Low': '478.3', 'Close': '478.7', 'Volume': '1633189'}, {'Date': '7/14/2006', 'Open': '478.5001', 'High': '480.0999', 'Low': '474.1', 'Close': '475.8', 'Volume': '1539689'}, {'Date': '7/17/2006', 'Open': '469.1', 'High': '469.5', 'Low': '463.3', 'Close': '463.9999', 'Volume': '3265409'}, {'Date': '7/18/2006', 'Open': '464.2', 'High': '468.9999', 'Low': '462.2', 'Close': '465.5', 'Volume': '1655100'}, {'Date': '7/19/2006', 'Open': '468.5001', 'High': '475.0999', 'Low': '468.3', 'Close': '472.5', 'Volume': '2621339'}, {'Date': '7/20/2006', 'Open': '472.5', 'High': '474.5', 'Low': '470.5', 'Close': '471.1', 'Volume': '1597130'}]\n"
     ]
    }
   ],
   "source": [
    "def read_csv(filepath,delimiter=\",\"):\n",
    "    import csv\n",
    "    dataset = list()\n",
    "    with open(filepath) as f: \n",
    " \n",
    "        # use the DictReader function of the csv module to \n",
    "        # read the file using the same delimiter\n",
    "        csv_file = csv.DictReader(f, delimiter=delimiter) \n",
    " \n",
    "        # csv_file is an iterable object that we can iterate on using a for loop\n",
    "        for row in csv_file:\n",
    "            dataset.append(row)\n",
    " \n",
    "    return dataset\n",
    " \n",
    "dataset = read_csv(\"FileIO-DataFiles/stocks_short.csv\")\n",
    "print(len(dataset)) # number of rows in the dataset\n",
    "print(dataset[0]) # print first row in the dataset\n",
    "print(dataset)"
   ]
  },
  {
   "cell_type": "markdown",
   "metadata": {},
   "source": [
    "## Practice 4\n",
    "Create a script that performs the following tasks:\n",
    "* Overwrite or create a file named *data/user_input.csv*.\n",
    "* Ask the user for input text that will be added to *user_input.csv*. \n",
    "* Continue prompting for input until the user enters \"Quit.\" \n",
    "* When the user enters \"Quit,\" display the existing contents of the file to the user. \n",
    "\n",
    "**Tip**: It is always useful to tell the user how to get out of a loop!"
   ]
  },
  {
   "cell_type": "code",
   "execution_count": null,
   "metadata": {
    "collapsed": true
   },
   "outputs": [],
   "source": [
    "# your code here "
   ]
  },
  {
   "cell_type": "code",
   "execution_count": 9,
   "metadata": {},
   "outputs": [
    {
     "name": "stdout",
     "output_type": "stream",
     "text": [
      "employee_id,first_name,last_name\n",
      "EMP2345235636,robert,balti\n",
      "EMP2498799899,mark,smith\n",
      "EMP2498989890,mary,caldwell\n",
      "\n"
     ]
    }
   ],
   "source": [
    "import csv\n",
    "row_1 = [\"employee_id\",\"first_name\",\"last_name\"] # header row\n",
    "row_2 = [\"EMP2345235636\",\"robert\",\"balti\"] # first row\n",
    "row_3 = [\"EMP2498799899\",\"mark\",\"smith\"] # second row\n",
    "row_4 = [\"EMP2498989890\",\"mary\",\"caldwell\"] # third row\n",
    "with open('FileIO-DataFiles/employee.csv', 'w') as csv_file: # open file in write mode\n",
    "    # use the writer class to create a writer object \n",
    "    # that we will use to write data into the file\n",
    "    writer = csv.writer(csv_file,delimiter=',')  \n",
    "    writer.writerow(row_1) # writing the header row\n",
    "    writer.writerow(row_2) # writing the first row\n",
    "    writer.writerow(row_3) # writing the second row\n",
    "    writer.writerow(row_4) # writing the third row\n",
    " \n",
    "csv_file.close()\n",
    " \n",
    "f = open('FileIO-DataFiles/employee.csv', 'r')\n",
    "print(f.read())\n",
    "f.close()"
   ]
  },
  {
   "cell_type": "markdown",
   "metadata": {},
   "source": [
    "## Practice 5\n",
    "Create a script that performs the following tasks:\n",
    "* If the file named *data/user_input.csv* does not already exist, open the file in write mode.\n",
    "* If the file does exist, ask the user if the new data should replace the existing data or if the new data should be added to the existing data. Then, open the file in the correct mode.\n",
    "* Ask the user for input text that will be added to *user_input.csv*. \n",
    "* Continue prompting for input until the user enters \"Quit.\" \n",
    "* When the user enters \"Quit,\" display the existing contents of the file to the user. \n",
    "\n",
    "**Tip**: It is always useful to tell the user how to get out of a loop!"
   ]
  },
  {
   "cell_type": "code",
   "execution_count": null,
   "metadata": {
    "collapsed": true
   },
   "outputs": [],
   "source": [
    "# your code here "
   ]
  },
  {
   "cell_type": "code",
   "execution_count": 10,
   "metadata": {},
   "outputs": [
    {
     "name": "stdout",
     "output_type": "stream",
     "text": [
      "employee_id,first_name,last_name\n",
      "EMP2345235636,robert,balti\n",
      "EMP2498799899,mark,smith\n",
      "EMP2498989890,mary,caldwell\n",
      "EMP4564576566,jack,russel\n",
      "EMP9807976875,jenny,clapper\n",
      "EMP4564564566,mario,cruz\n",
      "\n"
     ]
    }
   ],
   "source": [
    "import csv\n",
    "row_1 = [\"EMP4564576566\",\"jack\",\"russel\"] # first row\n",
    "row_2 = [\"EMP9807976875\",\"jenny\",\"clapper\"] # second row\n",
    "row_3 = [\"EMP4564564566\",\"mario\",\"cruz\"] # third row\n",
    " \n",
    "# open file in append mode, which will add the data at the end of the file\n",
    "with open('FileIO-DataFiles/employee.csv', 'a') as csv_file: \n",
    " \n",
    "    # use the writer class to create a writer object \n",
    "    # that we will use to write data into the file\n",
    "    writer = csv.writer(csv_file,delimiter=',')  \n",
    "    writer.writerow(row_1) # writing the first row\n",
    "    writer.writerow(row_2) # writing the second row\n",
    "    writer.writerow(row_3) # writing the third row\n",
    " \n",
    "csv_file.close()\n",
    " \n",
    "f = open('FileIO-DataFiles/employee.csv', 'r')\n",
    "print(f.read())\n",
    "f.close()"
   ]
  },
  {
   "cell_type": "markdown",
   "metadata": {},
   "source": [
    "## Practice 6\n",
    "The data files provided for this lesson include a file named *albums.csv*. This file includes three columns:\n",
    "* `album_name`: The name of the album\n",
    "* `pub_date`: The album's original publication date\n",
    "* `price`: The price of the album\n",
    "\n",
    "Create a script that performs the following tasks:\n",
    "* Prompt the user for an album name, publication date, and price for five different albums.\n",
    "* Add each album's information to a list and add each list to a collection of lists.\n",
    "* After all data has been collected from the user, append the new data to *albums.csv* and display the file's contents to the user.\n",
    "\n",
    "The data entries should be realistic, even if the data is not real."
   ]
  },
  {
   "cell_type": "code",
   "execution_count": null,
   "metadata": {
    "collapsed": true
   },
   "outputs": [],
   "source": [
    "# your code here "
   ]
  },
  {
   "cell_type": "code",
   "execution_count": 11,
   "metadata": {},
   "outputs": [
    {
     "name": "stdout",
     "output_type": "stream",
     "text": [
      "employee_id,first_name,last_name\n",
      "EMP2345235636,robert,balti\n",
      "EMP2498799899,mark,smith\n",
      "EMP2498989890,mary,caldwell\n",
      "EMP4564576566,jack,russel\n",
      "EMP9807976875,jenny,clapper\n",
      "EMP4564564566,mario,cruz\n",
      "EMP9807976877,mary,donald\n",
      "EMP9807976872,jacky,foreman\n",
      "EMP4564564598,leslie,knope\n",
      "\n"
     ]
    }
   ],
   "source": [
    "import csv\n",
    "dataset = [[\"EMP9807976877\",\"mary\",\"donald\"],[\"EMP9807976872\",\"jacky\",\"foreman\"],\n",
    "           [\"EMP4564564598\",\"leslie\",\"knope\"]] \n",
    "            # a list of lists: each nested list is a separate row\n",
    " \n",
    "# open file in append mode, which will add the data at the end of the  file\n",
    "with open('FileIO-DataFiles/employee.csv', 'a') as csv_file: \n",
    "    # use the writer class to create a writer object \n",
    "    # that we will use to write data into the file\n",
    "    writer = csv.writer(csv_file,delimiter=',') \n",
    "    # write multiple rows at once using writerows\n",
    "    writer.writerows(dataset) \n",
    " \n",
    "csv_file.close()\n",
    " \n",
    "f = open('FileIO-DataFiles/employee.csv', 'r')\n",
    "print(f.read())\n",
    "f.close()"
   ]
  },
  {
   "cell_type": "markdown",
   "metadata": {},
   "source": [
    "## Practice 7\n",
    "Write a script that creates a CSV file called *posts.csv*, which will contain information about Twitter posts. You must include at least four different attributes for each tweet. \n",
    "\t\n",
    "Use a dictionary to define the data for each tweet and then add each dictionary as a separate row in the CSV file."
   ]
  },
  {
   "cell_type": "code",
   "execution_count": null,
   "metadata": {
    "collapsed": true
   },
   "outputs": [],
   "source": [
    "# your code here "
   ]
  },
  {
   "cell_type": "code",
   "execution_count": 12,
   "metadata": {},
   "outputs": [
    {
     "name": "stdout",
     "output_type": "stream",
     "text": [
      "employee_id,first_name,last_name\n",
      "EMP4564576566,jack,russel\n",
      "EMP9807976875,jenny,clapper\n",
      "EMP4564564566,mario,cruz\n",
      "\n"
     ]
    }
   ],
   "source": [
    "import csv\n",
    " \n",
    "# create three rows of data; item order is not important because each dictionary \n",
    "# uses keys to identify each value\n",
    "row_1 = {\"employee_id\":\"EMP4564576566\",\"first_name\":\"jack\",\"last_name\":\"russel\"} \n",
    "row_2 = {\"first_name\":\"jenny\",\"last_name\":\"clapper\",\"employee_id\":\"EMP9807976875\"} \n",
    "row_3 = {\"employee_id\":\"EMP4564564566\",\"last_name\":\"cruz\",\"first_name\":\"mario\"} \n",
    "fieldnames = [\"employee_id\",\"first_name\",\"last_name\"]\n",
    "with open('FileIO-DataFiles/employee.csv', 'w') as csv_file: \n",
    "    writer = csv.DictWriter(csv_file,delimiter=',',fieldnames=fieldnames)  \n",
    "    writer.writeheader()\n",
    "    writer.writerow(row_1) # write the first row\n",
    "    writer.writerow(row_2) # write the second row\n",
    "    writer.writerow(row_3) # writethe third row\n",
    " \n",
    "csv_file.close()\n",
    " \n",
    "f = open('FileIO-DataFiles/employee.csv', 'r')\n",
    "print(f.read())\n",
    "f.close()"
   ]
  },
  {
   "cell_type": "markdown",
   "metadata": {},
   "source": [
    "## Practice 8\n",
    "Using any approach we have discussed in this lesson, create a personal contact list as a CSV file named *contacts.csv*. Add a first name, last name, phone number, and email address for at least three people that you know, with appropriate column headers.\n",
    "\n",
    "After creating the file, display its contents and then delete it. \n",
    "\n",
    "What happens if you run the script more than once?"
   ]
  },
  {
   "cell_type": "code",
   "execution_count": 41,
   "metadata": {
    "collapsed": true
   },
   "outputs": [],
   "source": [
    "# your code here"
   ]
  },
  {
   "cell_type": "code",
   "execution_count": 13,
   "metadata": {},
   "outputs": [],
   "source": [
    "import os\n",
    "os.remove(\"FileIO-DataFiles/employee.csv\") \n",
    "# will throw an error if the CSV file doesn't exist.  "
   ]
  },
  {
   "cell_type": "markdown",
   "metadata": {},
   "source": [
    "## Practice 9\n",
    "Create a script that prompts the user for a file path and checks if the file exists. \n",
    "* If the file exists, delete the file and confirm the deletion to the user.\n",
    "* If the file doesn't exist, create the file named by the user and confirm the action to the user.  "
   ]
  },
  {
   "cell_type": "code",
   "execution_count": null,
   "metadata": {},
   "outputs": [],
   "source": []
  },
  {
   "cell_type": "code",
   "execution_count": null,
   "metadata": {
    "collapsed": true
   },
   "outputs": [],
   "source": [
    "# your code here "
   ]
  },
  {
   "cell_type": "code",
   "execution_count": 14,
   "metadata": {},
   "outputs": [
    {
     "name": "stdout",
     "output_type": "stream",
     "text": [
      "The file doesn't exist.\n"
     ]
    }
   ],
   "source": [
    "import os\n",
    "if os.path.exists(\"data/employee.csv\"):\n",
    "    os.remove(\"data/employee.csv\")\n",
    "    print(\"The file was deleted successfully.\")\n",
    "else:\n",
    "    print(\"The file doesn't exist.\")"
   ]
  },
  {
   "cell_type": "code",
   "execution_count": null,
   "metadata": {},
   "outputs": [],
   "source": []
  }
 ],
 "metadata": {
  "kernelspec": {
   "display_name": "Python 3",
   "language": "python",
   "name": "python3"
  },
  "language_info": {
   "codemirror_mode": {
    "name": "ipython",
    "version": 3
   },
   "file_extension": ".py",
   "mimetype": "text/x-python",
   "name": "python",
   "nbconvert_exporter": "python",
   "pygments_lexer": "ipython3",
   "version": "3.9.7"
  }
 },
 "nbformat": 4,
 "nbformat_minor": 2
}
