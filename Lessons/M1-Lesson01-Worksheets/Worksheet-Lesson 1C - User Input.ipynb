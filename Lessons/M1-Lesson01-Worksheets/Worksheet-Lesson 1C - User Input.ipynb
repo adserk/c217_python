{
 "cells": [
  {
   "cell_type": "markdown",
   "metadata": {},
   "source": [
    "# Worksheet: User Input\n",
    "This worksheet includes the practice activities for *Lesson 1C: User Input* in the online course. Refer to that lesson as necessary to complete these activities."
   ]
  },
  {
   "cell_type": "markdown",
   "metadata": {},
   "source": [
    "## Practice 1\n",
    "Create a program that prompts the user for their name and three states they have visited. \n",
    "\n",
    "Run the program and enter appropriate values at each prompt. Pay attention to what Python outputs for each prompt. What happens if you add a third or fourth prompt to the code?"
   ]
  },
  {
   "cell_type": "code",
   "execution_count": 8,
   "metadata": {},
   "outputs": [
    {
     "data": {
      "text/plain": [
       "''"
      ]
     },
     "execution_count": 8,
     "metadata": {},
     "output_type": "execute_result"
    }
   ],
   "source": [
    "# Enter your code here\n",
    "input(\"Please Enter Your Name:\")"
   ]
  },
  {
   "cell_type": "markdown",
   "metadata": {},
   "source": [
    "## Practice 2\n",
    "Write code that asks the user for their first name as one input and their last name as a second input and stores each input in a separate variable.\n",
    "\t\n",
    "Use the `print` command to display the last name and then the first name.."
   ]
  },
  {
   "cell_type": "code",
   "execution_count": 9,
   "metadata": {
    "collapsed": true
   },
   "outputs": [
    {
     "name": "stdout",
     "output_type": "stream",
     "text": [
      "Your First name is \n",
      "Your Last name is \n"
     ]
    }
   ],
   "source": [
    "# Enter practice code here\n",
    "firstname = input(\"Enter First Name:\")\n",
    "lastname = input(\"Enter Last Name:\")\n",
    "print (\"Your First name is\" ,firstname)\n",
    "print(\"Your Last name is\", lastname) "
   ]
  },
  {
   "cell_type": "code",
   "execution_count": 10,
   "metadata": {},
   "outputs": [
    {
     "name": "stdout",
     "output_type": "stream",
     "text": [
      " \n"
     ]
    }
   ],
   "source": [
    "fullname = firstname + ' ' + lastname\n",
    "print (fullname)"
   ]
  },
  {
   "cell_type": "code",
   "execution_count": null,
   "metadata": {},
   "outputs": [],
   "source": []
  }
 ],
 "metadata": {
  "kernelspec": {
   "display_name": "Python 3",
   "language": "python",
   "name": "python3"
  },
  "language_info": {
   "codemirror_mode": {
    "name": "ipython",
    "version": 3
   },
   "file_extension": ".py",
   "mimetype": "text/x-python",
   "name": "python",
   "nbconvert_exporter": "python",
   "pygments_lexer": "ipython3",
   "version": "3.9.7"
  }
 },
 "nbformat": 4,
 "nbformat_minor": 2
}
