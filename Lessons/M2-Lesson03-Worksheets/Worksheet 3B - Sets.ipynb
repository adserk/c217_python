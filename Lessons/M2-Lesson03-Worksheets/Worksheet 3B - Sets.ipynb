{
 "cells": [
  {
   "cell_type": "markdown",
   "metadata": {},
   "source": [
    "# Worksheet 3B: Sets\n",
    "This worksheet corresponds to *Lesson 3B: Sets* in the online course. Refer to that lesson as necessary to complete these practice exercises."
   ]
  },
  {
   "cell_type": "markdown",
   "metadata": {},
   "source": [
    "## Practice 1\n",
    "Create a set that contains a collection of your favorite fruits. "
   ]
  },
  {
   "cell_type": "markdown",
   "metadata": {},
   "source": [
    "### 1. Set data structure does not have numberical indexing \n",
    "### 2. Random ordering of items\n",
    "### 3. Sets only store unique items, duplicate items are removed"
   ]
  },
  {
   "cell_type": "code",
   "execution_count": 1,
   "metadata": {},
   "outputs": [
    {
     "data": {
      "text/plain": [
       "{'apple', 'banana', 'orange', 'pear'}"
      ]
     },
     "execution_count": 1,
     "metadata": {},
     "output_type": "execute_result"
    }
   ],
   "source": [
    "# col1 = set(),    list()    tuple()    dict()\n",
    "# your code here\n",
    "basket = {'apple', 'orange', 'apple', 'pear', 'orange', 'banana'}\n",
    "basket\n",
    "# sets only store unique items, duplicate items are removed\n"
   ]
  },
  {
   "cell_type": "code",
   "execution_count": 3,
   "metadata": {},
   "outputs": [],
   "source": [
    "col1 = {'red', 'green', 'orange', 'white'}\n",
    "col2 = {'black', 'green', 'white', 'pink'}"
   ]
  },
  {
   "cell_type": "code",
   "execution_count": 7,
   "metadata": {},
   "outputs": [
    {
     "name": "stdout",
     "output_type": "stream",
     "text": [
      "{'green', 'white'}\n",
      "{'orange', 'red', 'green', 'black', 'pink', 'white'}\n",
      "{'orange', 'red', 'black', 'pink'}\n"
     ]
    }
   ],
   "source": [
    "# Set Theory\n",
    "# Find common colors in both sets \n",
    "print (col1 & col2)\n",
    "\n",
    "# Find all the colors in both the sets. (Union of sets)\n",
    "print(col1 | col2)\n",
    "\n",
    "#Find items in either col1 or col2 But not in both (Exclusive)\n",
    "print (col1 ^ col2)\n"
   ]
  },
  {
   "cell_type": "code",
   "execution_count": 9,
   "metadata": {},
   "outputs": [
    {
     "name": "stdout",
     "output_type": "stream",
     "text": [
      "True\n",
      "{'red', 'green', 'blue', 'white'}\n",
      "{'green', 'blue', 'white'}\n",
      "{'blue', 'white'}\n"
     ]
    }
   ],
   "source": [
    "# Check for 'red' in col1 set\n",
    "print ('red' in col1)\n",
    "\n",
    "col1.add(\"blue\")\n",
    "print (col1)\n",
    "# pop() Remove the first item from set\n",
    "col1.pop()\n",
    "print (col1)\n",
    "col1.pop()\n",
    "print(col1)"
   ]
  },
  {
   "cell_type": "code",
   "execution_count": null,
   "metadata": {},
   "outputs": [],
   "source": [
    "col1.remove()     # remove items from set. If item not found then throw error\n",
    "col1.discard()    # remove items from set. If item not found then no error\n",
    "col1.clear()      # remove all the items from set. Make it empty"
   ]
  },
  {
   "cell_type": "markdown",
   "metadata": {},
   "source": [
    "## Practice 2\n",
    "Using the set of fruits you created in the previous exercise, retrieve the items from the set so that each item appears on a separate line in the output."
   ]
  },
  {
   "cell_type": "code",
   "execution_count": 2,
   "metadata": {},
   "outputs": [
    {
     "name": "stdout",
     "output_type": "stream",
     "text": [
      "orange\n",
      "apple\n",
      "pear\n",
      "banana\n"
     ]
    }
   ],
   "source": [
    "# your code here\n",
    "for i in basket:\n",
    "    print(i)"
   ]
  },
  {
   "cell_type": "markdown",
   "metadata": {},
   "source": [
    "## Practice 4\n",
    "Create a set with at least three fruit items in it and print it. Then add at least three more items to the set and print the updated set."
   ]
  },
  {
   "cell_type": "code",
   "execution_count": 10,
   "metadata": {},
   "outputs": [
    {
     "data": {
      "text/plain": [
       "{'apple', 'banana', 'blueberry', 'grapes', 'orange', 'strawberry'}"
      ]
     },
     "execution_count": 10,
     "metadata": {},
     "output_type": "execute_result"
    }
   ],
   "source": [
    "# your code here\n",
    "fruit_set = {'banana', 'apple', 'orange'}\n",
    "fruit_set.add('blueberry')\n",
    "fruit_set.add('strawberry')\n",
    "fruit_set.add('grapes')\n",
    "fruit_set"
   ]
  },
  {
   "cell_type": "markdown",
   "metadata": {},
   "source": [
    "## Practice 4a\n",
    "Use the `add()` method to convert the `names` list into a set called `names_set`. \n",
    "\n",
    "Use the following steps:\n",
    "* Create a new empty set.\n",
    "* Add the items from the list to the new set.\n",
    "* Print the set when it is complete."
   ]
  },
  {
   "cell_type": "code",
   "execution_count": 12,
   "metadata": {},
   "outputs": [
    {
     "name": "stdout",
     "output_type": "stream",
     "text": [
      "['Robert', 'Mark', 'Nick', 'Jenny']\n",
      "<class 'list'>\n",
      "{'Jenny', 'Mark', 'Nick', 'Robert'}\n",
      "<class 'set'>\n",
      "{'Jenny', 'Mark', 'Nick', 'Robert'}\n",
      "<class 'set'>\n"
     ]
    }
   ],
   "source": [
    "names = [\"Robert\", \"Mark\", \"Nick\", \"Jenny\"] # do not change this\n",
    "print(names)\n",
    "print(type(names))\n",
    "# your code here\n",
    "names_set = set()\n",
    "for i in names:\n",
    "    names_set.add(i)\n",
    "print(names_set)\n",
    "print(type(names_set))\n",
    "# Or another way\n",
    "names_set = set(names)\n",
    "print(names_set)\n",
    "print(type(names_set))"
   ]
  },
  {
   "cell_type": "markdown",
   "metadata": {},
   "source": [
    "## Practice 4b\n",
    "Fix the errors in following code. Do not remove any existing instructions or add new instructions."
   ]
  },
  {
   "cell_type": "code",
   "execution_count": 19,
   "metadata": {
    "scrolled": true
   },
   "outputs": [
    {
     "name": "stdout",
     "output_type": "stream",
     "text": [
      "{'Jenny', 'Mark', 'Nick', 'Robert'}\n",
      "<class 'set'>\n",
      "<class 'set'>\n"
     ]
    }
   ],
   "source": [
    "\n",
    "names = {\"Robert\", \"Mark\", \"Nick\", \"Jenny\"}\n",
    "print(names)\n",
    "print(type(names))       \n",
    "another_set = set()\n",
    "another_set = names.copy()\n",
    "print(type(another_set))\n"
   ]
  },
  {
   "cell_type": "markdown",
   "metadata": {},
   "source": [
    "## Practice 5\n",
    "Convert the `names` list into a set called `names_set` and print the set. "
   ]
  },
  {
   "cell_type": "code",
   "execution_count": 17,
   "metadata": {},
   "outputs": [
    {
     "name": "stdout",
     "output_type": "stream",
     "text": [
      "['Robert', 'Mark', 'Nancy', 'Robert', 'Mark', 'Jenny', 'Robert']\n",
      "<class 'set'>\n",
      "{'Jenny', 'Mark', 'Nancy', 'Robert'}\n",
      "<class 'set'>\n"
     ]
    }
   ],
   "source": [
    "names = [\"Robert\", \"Mark\", \"Nancy\", \"Robert\", \"Mark\", \"Jenny\", \"Robert\"] # do not change this line of code\n",
    "print(names)\n",
    "print(type(names_set))\n",
    "# your code here\n",
    "# Converting a list to set will remove any duplicates\n",
    "names_set = set(names)\n",
    "print(names_set)\n",
    "print(type(names_set))"
   ]
  },
  {
   "cell_type": "markdown",
   "metadata": {},
   "source": [
    "## Practice 6\n",
    "Create a program that performs the following steps:\n",
    "1. Prompt the user for a state abbreviation.\n",
    "2. Return a success message if the user entered a valid state abbreviation.\n",
    "3. Return an error message if the user entered an invalid state abbreviation.\n",
    "\n",
    "The final version of the code should support both uppercase and lowercase input. For example, the user should be able to input \"FL,\" \"Fl,\" \"fL,\" or \"fl\" and get the same response."
   ]
  },
  {
   "cell_type": "code",
   "execution_count": 22,
   "metadata": {},
   "outputs": [
    {
     "name": "stdout",
     "output_type": "stream",
     "text": [
      "Success\n"
     ]
    }
   ],
   "source": [
    "states_abbrev = {\"AL\", \"AK\", \"AZ\", \"AR\", \"CA\", \"CO\", \"CT\", \"DE\", \"FL\", \"GA\", \n",
    "          \"HI\", \"ID\", \"IL\", \"IN\", \"IA\", \"KS\", \"KY\", \"LA\", \"ME\", \"MD\", \n",
    "          \"MA\", \"MI\", \"MN\", \"MS\", \"MO\", \"MT\", \"NE\", \"NV\", \"NH\", \"NJ\", \n",
    "          \"NM\", \"NY\", \"NC\", \"ND\", \"OH\", \"OK\", \"OR\", \"PA\", \"RI\", \"SC\", \n",
    "          \"SD\", \"TN\", \"TX\", \"UT\", \"VT\", \"VA\", \"WA\", \"WV\", \"WI\", \"WY\"}\n",
    "\n",
    "# your code here\n",
    "# Searching Items in a Set\n",
    "state = \"Fl\"\n",
    "# use upper() to convert input into all uppercase before passing on\n",
    "state = state.upper()\n",
    "if state in states_abbrev:\n",
    "    print(\"Success\")\n",
    "else:\n",
    "    print(\"Not Found\")"
   ]
  },
  {
   "cell_type": "markdown",
   "metadata": {},
   "source": [
    "## Practice 7\n",
    "Create a script that keeps asking the user for input until the user enters \"quit\" (uppercase or lowercase).\n",
    "* Each input value should be added to a set. \n",
    "* When the user enters \"quit,\" the program should display all distinct values entered by the user, with each word on a separate line."
   ]
  },
  {
   "cell_type": "code",
   "execution_count": 23,
   "metadata": {},
   "outputs": [
    {
     "name": "stdout",
     "output_type": "stream",
     "text": [
      "{'hotdog', 'pizza', 'burger', 'pasta'}\n",
      "{'hotdog', 'pizza', 'taco', 'burrito', 'burger', 'pasta'}\n"
     ]
    }
   ],
   "source": [
    "# We create two sets of food items: one with four items and the other with two.\n",
    "# We then use update() to add the shorter set to the longer set and display the updated set.\n",
    "\n",
    "food = {\"pasta\", \"burger\", \"hotdog\", \"pizza\"}\n",
    "print(food)\n",
    " \n",
    "other_food = {\"taco\", \"burrito\"}\n",
    " \n",
    "food.update(other_food)\n",
    "print(food)"
   ]
  },
  {
   "cell_type": "code",
   "execution_count": 32,
   "metadata": {},
   "outputs": [
    {
     "name": "stdout",
     "output_type": "stream",
     "text": [
      "{'burger', 'sushi', 'fries'}\n",
      "burger\n",
      "sushi\n",
      "fries\n"
     ]
    }
   ],
   "source": [
    "# your code here\n",
    "user_input = input('Enter a food or Quit to exit')\n",
    "user_set = set()\n",
    "while user_input != (\"quit\" or \"QUIT\"):\n",
    "    user_set.add(user_input)\n",
    "    user_input = input('Enter a food or Quit to exit')\n",
    "print(user_set)\n",
    "for i in user_set:\n",
    "    print(i)"
   ]
  },
  {
   "cell_type": "markdown",
   "metadata": {},
   "source": [
    "## Practice 8\n",
    "Create a program that performs the following steps:\n",
    "1. Prompt the user for an integer.\n",
    "1. Ask the user to enter that many words.\n",
    "1. Display the set of words provided by the user.\n",
    "\n",
    "For example, if the user enters 5, the program will ask the user for 5 different words that it will store in a set. \n",
    "\n",
    "When the user finishes entering the items of the set, the program displays the set to the user."
   ]
  },
  {
   "cell_type": "code",
   "execution_count": 37,
   "metadata": {},
   "outputs": [
    {
     "name": "stdout",
     "output_type": "stream",
     "text": [
      "Words provided: {'burger', 'fries'}\n"
     ]
    }
   ],
   "source": [
    "# your code here\n",
    "num = int( input (\"Enter an integer:\") )\n",
    "num_str = str(num)\n",
    "word_set = set()\n",
    "\n",
    "for i in range(num):\n",
    "    word = input (\"Enter \" + num_str + \" words\")\n",
    "    word_set.add(word)\n",
    "print(\"Words provided:\", word_set)\n"
   ]
  },
  {
   "cell_type": "markdown",
   "metadata": {},
   "source": [
    "## Practice 9\n",
    "Complete the code below, using the `in` operator and the `remove()` method, to create a script that will remove items from a set.\n",
    "* If the item exists, remove the item and display the current set with the item removed.\n",
    "* If the item does **not** exist, display an appropriate, user-friendly message and list the items currently in the set.\n",
    "\n",
    "The program should **not** throw an error if the item doesn't exist. This means that the script should check if the item exists in the set and remove the item only if it is included in the current set."
   ]
  },
  {
   "cell_type": "code",
   "execution_count": 44,
   "metadata": {},
   "outputs": [
    {
     "name": "stdout",
     "output_type": "stream",
     "text": [
      "{'hotdog', 'pizza', 'burger', 'pasta'}\n"
     ]
    },
    {
     "ename": "RuntimeError",
     "evalue": "Set changed size during iteration",
     "output_type": "error",
     "traceback": [
      "\u001b[0;31m---------------------------------------------------------------------------\u001b[0m",
      "\u001b[0;31mRuntimeError\u001b[0m                              Traceback (most recent call last)",
      "\u001b[0;32m/var/folders/lp/4hj1stqn35bdfxzs8ksyb5wm0000gp/T/ipykernel_8834/1688505908.py\u001b[0m in \u001b[0;36m<module>\u001b[0;34m\u001b[0m\n\u001b[1;32m      1\u001b[0m \u001b[0mfood\u001b[0m \u001b[0;34m=\u001b[0m \u001b[0;34m{\u001b[0m\u001b[0;34m\"pasta\"\u001b[0m\u001b[0;34m,\u001b[0m \u001b[0;34m\"burger\"\u001b[0m\u001b[0;34m,\u001b[0m \u001b[0;34m\"hotdog\"\u001b[0m\u001b[0;34m,\u001b[0m \u001b[0;34m\"pizza\"\u001b[0m\u001b[0;34m}\u001b[0m\u001b[0;34m\u001b[0m\u001b[0;34m\u001b[0m\u001b[0m\n\u001b[1;32m      2\u001b[0m \u001b[0mprint\u001b[0m\u001b[0;34m(\u001b[0m\u001b[0mfood\u001b[0m\u001b[0;34m)\u001b[0m\u001b[0;34m\u001b[0m\u001b[0;34m\u001b[0m\u001b[0m\n\u001b[0;32m----> 3\u001b[0;31m \u001b[0;32mfor\u001b[0m \u001b[0mi\u001b[0m \u001b[0;32min\u001b[0m \u001b[0mfood\u001b[0m\u001b[0;34m:\u001b[0m\u001b[0;34m\u001b[0m\u001b[0;34m\u001b[0m\u001b[0m\n\u001b[0m\u001b[1;32m      4\u001b[0m     \u001b[0;32mif\u001b[0m \u001b[0mi\u001b[0m \u001b[0;32min\u001b[0m \u001b[0mfood\u001b[0m\u001b[0;34m:\u001b[0m\u001b[0;34m\u001b[0m\u001b[0;34m\u001b[0m\u001b[0m\n\u001b[1;32m      5\u001b[0m         \u001b[0mfood\u001b[0m\u001b[0;34m.\u001b[0m\u001b[0mdiscard\u001b[0m\u001b[0;34m(\u001b[0m\u001b[0mi\u001b[0m\u001b[0;34m)\u001b[0m\u001b[0;34m\u001b[0m\u001b[0;34m\u001b[0m\u001b[0m\n",
      "\u001b[0;31mRuntimeError\u001b[0m: Set changed size during iteration"
     ]
    }
   ],
   "source": [
    "food = {\"pasta\", \"burger\", \"hotdog\", \"pizza\"}\n",
    "print(food)\n",
    "for i in food:\n",
    "    if i in food:\n",
    "        food.discard(i)\n",
    "print(food)\n",
    "# the remove shouldn't throw an error. \n",
    "# food.remove(\"taco\")\n"
   ]
  },
  {
   "cell_type": "markdown",
   "metadata": {},
   "source": [
    "## Practice 10\n",
    "Update the following code to include a user prompt. \n",
    "* If the user inputs a string that corresponds to the variable name of one of the sets below, clear the set using the `clear()` method.\n",
    "* If there is no set that matches the user input, display an error message that the set doesn't exist. "
   ]
  },
  {
   "cell_type": "code",
   "execution_count": null,
   "metadata": {},
   "outputs": [],
   "source": [
    "shake_1 = {\"banana\", \"blueberry\", \"spinach\"}\n",
    "shake_2 = {\"strawberry\", \"pistachio\", \"cocoa powder\"}\n",
    "shake_3 = {\"kiwi\", \"banana\", \"peanut butter\"}\n",
    "\n",
    "# your code here"
   ]
  },
  {
   "cell_type": "markdown",
   "metadata": {},
   "source": [
    "## Practice 11\n",
    "Create a script that performs the following steps:\n",
    "* Display the set to the user along with the number of items in the set.\n",
    "* If there are no items in the set, display an output message to that effect and end the script.\n",
    "* Ask the user if they want to remove an item from the set.\n",
    "* If the user says yes:\n",
    "    * Verify that there is at least one item in the set.\n",
    "    * Remove a random item from the set.\n",
    "    * Display the updated set to the user.\n",
    "    * Prompt the user to remove another item.\n",
    "* If the user says no, end the script.\n",
    "\n",
    "You cannot use the `clear()`, `remove()`, or `discard()` methods in your solution. "
   ]
  },
  {
   "cell_type": "code",
   "execution_count": null,
   "metadata": {},
   "outputs": [],
   "source": [
    "food = {\"pasta\", \"burger\", \"hotdog\", \"pizza\"}\n",
    "\n",
    "# your code here"
   ]
  },
  {
   "cell_type": "markdown",
   "metadata": {},
   "source": [
    "## Practice 12\n",
    "Complete the code below to ask the user for input. \n",
    "* If the user inputs a string that corresponds to the variable name of one of the sets below, delete that set using `del`.\n",
    "* If there is no set with that name, display an error message that the set doesn't exist. "
   ]
  },
  {
   "cell_type": "code",
   "execution_count": null,
   "metadata": {},
   "outputs": [],
   "source": [
    "shake_1 = {\"banana\", \"blueberry\", \"spinach\"}\n",
    "shake_2 = {\"strawberry\", \"pistachio\", \"cocoa powder\"}\n",
    "shake_3 = {\"kiwi\", \"banana\", \"peanut butter\"}\n",
    "\n",
    "# your code here"
   ]
  },
  {
   "cell_type": "markdown",
   "metadata": {},
   "source": [
    "## Practice 13\n",
    "Create a script that performs the following steps:\n",
    "* Prompt the user for the abbreviation of a state they have visited and store the value in a new set.\n",
    "* Repeat the prompt and continue storing values in the same set until the user enters \"done\" (in uppercase or lowercase).\n",
    "* After the user enters \"done,\" display a list of abbreviations for the states that the user has **not** visited yet, using the `states_abbrev` set below and the `difference()` method. \n",
    "\n",
    "**Tip**: It's always a good idea to tell the user how to get out of a loop!"
   ]
  },
  {
   "cell_type": "code",
   "execution_count": null,
   "metadata": {},
   "outputs": [],
   "source": [
    "states_abbrev = {\"AL\", \"AK\", \"AZ\", \"AR\", \"CA\", \"CO\", \"CT\", \"DE\", \"FL\", \"GA\", \n",
    "          \"HI\", \"ID\", \"IL\", \"IN\", \"IA\", \"KS\", \"KY\", \"LA\", \"ME\", \"MD\", \n",
    "          \"MA\", \"MI\", \"MN\", \"MS\", \"MO\", \"MT\", \"NE\", \"NV\", \"NH\", \"NJ\", \n",
    "          \"NM\", \"NY\", \"NC\", \"ND\", \"OH\", \"OK\", \"OR\", \"PA\", \"RI\", \"SC\", \n",
    "          \"SD\", \"TN\", \"TX\", \"UT\", \"VT\", \"VA\", \"WA\", \"WV\", \"WI\", \"WY\"}\n",
    "\n",
    "# your code here"
   ]
  },
  {
   "cell_type": "markdown",
   "metadata": {},
   "source": [
    "## Practice 14\n",
    "The following code includes a set of state abbreviations representing states that Mary has visited. Update the code to include the following steps:\n",
    "* Prompt the user for the abbreviation of a state they have visited and store the value in a new set.\n",
    "* Repeat the prompt and continue storing values in the same set until the user enters \"done\" (in uppercase or lowercase).\n",
    "* Display a list of the states that both the user and Mary have visited, or display a meaningful message if the user has not visited any of the states that Mary has visited. "
   ]
  },
  {
   "cell_type": "code",
   "execution_count": null,
   "metadata": {},
   "outputs": [],
   "source": [
    "mary_states = {\"AZ\", \"CA\", \"FL\", \"GA\", \"IN\", \n",
    "              \"KY\", \"MA\", \"NV\", \"NY\", \"NC\",\n",
    "              \"PA\", \"SC\", \"TN\"}\n",
    "\n",
    "# your code here"
   ]
  },
  {
   "cell_type": "markdown",
   "metadata": {},
   "source": [
    "## Practice 15\n",
    "The following code includes a set of the states that Mary has visited. Update the code to perform the following steps:\n",
    "* Prompt the user for the abbreviation of a state they have visited and store the value in a new set.\n",
    "* Repeat the prompt and continue storing values in the same set until the user enters \"done\" (in uppercase or lowercase).\n",
    "* Display a list of the states that either the user or Mary has visited. "
   ]
  },
  {
   "cell_type": "code",
   "execution_count": null,
   "metadata": {},
   "outputs": [],
   "source": [
    "mary_states = {\"AZ\", \"CA\", \"FL\", \"GA\", \"IN\", \n",
    "              \"KY\", \"MA\", \"NV\", \"NY\", \"NC\",\n",
    "              \"PA\", \"SC\", \"TN\"}\n",
    "\n",
    "# your code here"
   ]
  }
 ],
 "metadata": {
  "kernelspec": {
   "display_name": "Python 3",
   "language": "python",
   "name": "python3"
  },
  "language_info": {
   "codemirror_mode": {
    "name": "ipython",
    "version": 3
   },
   "file_extension": ".py",
   "mimetype": "text/x-python",
   "name": "python",
   "nbconvert_exporter": "python",
   "pygments_lexer": "ipython3",
   "version": "3.9.7"
  }
 },
 "nbformat": 4,
 "nbformat_minor": 2
}
