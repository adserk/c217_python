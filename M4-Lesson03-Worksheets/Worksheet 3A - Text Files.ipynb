{
 "cells": [
  {
   "cell_type": "markdown",
   "metadata": {},
   "source": [
    "# Worksheet 3A: Text Files\n",
    "This worksheet corresponds to *Lesson 3A: Text Files* in the online course. Refer to that page as necessary to complete the activities here."
   ]
  },
  {
   "cell_type": "markdown",
   "metadata": {},
   "source": [
    "## Practice 1\n",
    "Find or create a text file. You can download a book from <a href=\"https://www.gutenberg.org\" target=\"_blank\">Project Gutenberg</a> for this activity if you wish, or use another text file of your choice.\n",
    "\n",
    "Read in the contents of the file and display all text in uppercase letters."
   ]
  },
  {
   "cell_type": "code",
   "execution_count": 3,
   "metadata": {},
   "outputs": [
    {
     "data": {
      "text/plain": [
       "'/Users/Work/c217_python/M4-Lesson03-Worksheets'"
      ]
     },
     "execution_count": 3,
     "metadata": {},
     "output_type": "execute_result"
    }
   ],
   "source": [
    "pwd"
   ]
  },
  {
   "cell_type": "code",
   "execution_count": 2,
   "metadata": {},
   "outputs": [
    {
     "name": "stdout",
     "output_type": "stream",
     "text": [
      "FLATLAND\n",
      "\n",
      "PART 1\n",
      "\n",
      "THIS WORLD\n",
      "\n",
      "SECTION 1  Of the Nature of Flatland\n",
      "\n",
      "I call our world Flatland, not because we call it so, but to make its\n",
      "nature clearer to you, my happy readers, who are privileged to live in\n",
      "Space.\n",
      "\n",
      "Imagine a vast sheet of paper on which straight Lines, Triangles,\n",
      "Squares, Pentagons, Hexagons, and other figures, instead of remaining\n",
      "fixed in their places, move freely about, on or in the surface, but\n",
      "without the power of rising above or sinking below it, very much like\n",
      "shadows--only hard with luminous edges--and you will then have a pretty\n",
      "correct notion of my country and countrymen.  Alas, a few years ago, I\n",
      "should have said \"my universe:\"  but now my mind has been opened to\n",
      "higher views of things.\n",
      "\n",
      "In such a country, you will perceive at once that it is impossible that\n",
      "there should be anything of what you call a \"solid\" kind; but I dare\n",
      "say you will suppose that we could at least distinguish by sight the\n",
      "Triangles, Squares, and other figures, moving about as I have described\n",
      "them.  On the contrary, we could see nothing of the kind, not at least\n",
      "so as to distinguish one figure from another.  Nothing was visible, nor\n",
      "could be visible, to us, except Straight Lines; and the necessity of\n",
      "this I will speedily demonstrate.\n"
     ]
    }
   ],
   "source": [
    "# your code here \n",
    "f = open(\"FileIO-DataFiles/flatland01.txt\", \"r\") \n",
    "print(f.read())"
   ]
  },
  {
   "cell_type": "markdown",
   "metadata": {},
   "source": [
    "## Practice 2\n",
    "Using a text file of your choice, create a function `head` that takes as input a file and a number of characters. The function should read the file and return that number of characters starting at the beginning of the file. The function should also close the file.\n",
    "\n",
    "Make sure to update the file path information in the code provided to retrieve the characters from your own file."
   ]
  },
  {
   "cell_type": "code",
   "execution_count": 11,
   "metadata": {},
   "outputs": [
    {
     "name": "stdout",
     "output_type": "stream",
     "text": [
      "FLATLAND\n",
      "\n",
      "PART 1\n",
      "\n",
      "TH\n"
     ]
    }
   ],
   "source": [
    "def head(filepath,num_char):\n",
    "    # remove pass and add code here\n",
    "    f = open(filepath, \"r\")\n",
    "    return f.read(num_char)\n",
    "# return the first 20 characters in the file data/text.txt\n",
    "text = head(\"FileIO-DataFiles/flatland01.txt\",20) \n",
    "print(text)"
   ]
  },
  {
   "cell_type": "markdown",
   "metadata": {},
   "source": [
    "## Practice 3\n",
    "Create a function `head` that takes as input a file and a number of lines. The function should read the file, return the top `num_lines` lines in the file, and close the file."
   ]
  },
  {
   "cell_type": "code",
   "execution_count": null,
   "metadata": {},
   "outputs": [],
   "source": [
    "def head(filepath,num_lines):\n",
    "    # remove pass and add code here\n",
    "    pass\n",
    "\n",
    "# return the first 5 lines in the file data/text.txt\n",
    "text = head(\"FileIO-DataFiles/text.txt\",5) \n",
    "print(text)"
   ]
  },
  {
   "cell_type": "markdown",
   "metadata": {},
   "source": [
    "## Practice 4\n",
    "Create a function `line_starts_with` that takes as input a file path and a character. The function will read the input file and only return the lines in the file that start with the input `fchar`. \n",
    "\n",
    "Make sure to handle uppercase and lowercase versions of the letter, and make other changes to the code as necessary to run using a local file."
   ]
  },
  {
   "cell_type": "code",
   "execution_count": null,
   "metadata": {},
   "outputs": [],
   "source": [
    "def line_starts_with(file_path,fchar):\n",
    "    # remove pass and add your code here\n",
    "    pass\n",
    "\n",
    "# return all lines in the file data/text.txt that start with \"i\". \n",
    "text = line_starts_with(\"data/text.txt\",\"i\")\n",
    "print(text)"
   ]
  },
  {
   "cell_type": "markdown",
   "metadata": {},
   "source": [
    "## Practice 5A\n",
    "The `write` function by itself appends the new text at the end of the existing text, without creating new lines for the new text. We can solve this problem by adding the new line character `\\n` at the beginning of each string that should start on a new line.\n",
    "\n",
    "Update the code below so that each instance of \"Hello World!\" appears on a separate line at the end of the file. Check the results by opening the file on your computer."
   ]
  },
  {
   "cell_type": "code",
   "execution_count": 14,
   "metadata": {},
   "outputs": [],
   "source": [
    "f = open(\"FileIO-DataFiles/test_file.txt\", \"a\") \n",
    "\n",
    "f.write(\"Hello World! \\n\")\n",
    "f.write(\"Hello World! \\n\")\n",
    "f.write(\"Hello World! \\n\")\n",
    "\n",
    "f.close() \n",
    "# after running this script, check that the file was created. "
   ]
  },
  {
   "cell_type": "code",
   "execution_count": 16,
   "metadata": {},
   "outputs": [
    {
     "name": "stdout",
     "output_type": "stream",
     "text": [
      "Hello World!Hello World!Hello World!Hello World! \n",
      "\n",
      "Hello World! \n",
      "\n",
      "Hello World! \n",
      "\n"
     ]
    }
   ],
   "source": [
    "f = open(\"FileIO-DataFiles/test_file.txt\", \"r\")\n",
    "for line in f:\n",
    "    print(line)\n",
    "\n"
   ]
  },
  {
   "cell_type": "markdown",
   "metadata": {},
   "source": [
    "## Practice 5B\n",
    "Update the code below to create a function `write_list_2_file` that takes as input a list and appends each element in the list as a separate line in a file. The function should close the file when finished."
   ]
  },
  {
   "cell_type": "code",
   "execution_count": 12,
   "metadata": {},
   "outputs": [],
   "source": [
    "states_abbrev = [\"AL\", \"AK\", \"AZ\", \"AR\", \"CA\", \"CO\", \"CT\", \"DE\", \"FL\", \"GA\", \n",
    "          \"HI\", \"ID\", \"IL\", \"IN\", \"IA\", \"KS\", \"KY\", \"LA\", \"ME\", \"MD\", \n",
    "          \"MA\", \"MI\", \"MN\", \"MS\", \"MO\", \"MT\", \"NE\", \"NV\", \"NH\", \"NJ\", \n",
    "          \"NM\", \"NY\", \"NC\", \"ND\", \"OH\", \"OK\", \"OR\", \"PA\", \"RI\", \"SC\", \n",
    "          \"SD\", \"TN\", \"TX\", \"UT\", \"VT\", \"VA\", \"WA\", \"WV\", \"WI\", \"WY\"]\n",
    "\n",
    "def write_list_2_file(input_list,input_file_path):\n",
    "    # remove pass and add code here\n",
    "    pass\n",
    "\n",
    "\n",
    "write_list_2_file(states_abbrev,\"data/states.txt\")\n"
   ]
  },
  {
   "cell_type": "markdown",
   "metadata": {},
   "source": [
    "## Practice 6a\n",
    "Create a script that asks the user for two inputs:\n",
    "* `input_1`: A path and filename\n",
    "* `input_2`: Text that will be stored in the file `input_1`\n",
    "\t\n",
    "The script should create the file named in `input_1` (or overwrite an existing file with the same name) and add the text stored in `input_2` to that file.\n",
    "\t\n",
    "**Tip**: Be sure that the path defined for `input_1` includes an appropriate filename and filename extension."
   ]
  },
  {
   "cell_type": "code",
   "execution_count": 14,
   "metadata": {},
   "outputs": [],
   "source": [
    "# your code here "
   ]
  },
  {
   "cell_type": "markdown",
   "metadata": {},
   "source": [
    "## Practice 6b\n",
    "\n",
    "The following script opens the `test_file.txt` file we used above and immediately closes the file.\n",
    "\n",
    "Run the script and then open the file to see its contents."
   ]
  },
  {
   "cell_type": "code",
   "execution_count": 15,
   "metadata": {},
   "outputs": [],
   "source": [
    "f = open(\"data/test_file.txt\", \"w\") \n",
    "\n",
    "f.close() # close file"
   ]
  },
  {
   "cell_type": "markdown",
   "metadata": {},
   "source": [
    "## Practice 7\n",
    "Change the code below so the state abbreviations are all added to the file in a single line, separated by semicolons.\n",
    "\t\n",
    "The output should start like this: `AL;AK;AZ;AR;CA;CO;CT;....`."
   ]
  },
  {
   "cell_type": "code",
   "execution_count": 17,
   "metadata": {},
   "outputs": [],
   "source": [
    "f = open(\"data/test_file.txt\", \"w\") \n",
    "\n",
    "states = [\"AL\", \"AK\", \"AZ\", \"AR\", \"CA\", \"CO\", \"CT\", \"DE\", \"FL\", \"GA\", \n",
    "         \"HI\", \"ID\", \"IL\", \"IN\", \"IA\", \"KS\", \"KY\", \"LA\", \"ME\", \"MD\", \n",
    "         \"MA\", \"MI\", \"MN\", \"MS\", \"MO\", \"MT\", \"NE\", \"NV\", \"NH\", \"NJ\", \n",
    "         \"NM\", \"NY\", \"NC\", \"ND\", \"OH\", \"OK\", \"OR\", \"PA\", \"RI\", \"SC\", \n",
    "         \"SD\", \"TN\", \"TX\", \"UT\", \"VT\", \"VA\", \"WA\", \"WV\", \"WI\", \"WY\"]\n",
    "\n",
    "for state in states: # iterate through the states list\n",
    "    f.write(state) # write the state into file. \n",
    "    f.write(\"\\n\")# create a new line so every state is in a seperate line. \n",
    "f.close() # close file"
   ]
  },
  {
   "cell_type": "markdown",
   "metadata": {},
   "source": [
    "## Practice 8\n",
    "Create a script that asks the user for three inputs:\n",
    "* `input_1`: A path and filename\n",
    "* `input_2`: Text that will be stored in the file `input_1`\n",
    "* `input_3`: The read/write mode for the file (`\"a\"`,`\"x\"`,`\"r\"`, or `\"w\"`) \n",
    "\n",
    "The script should complete the following steps:\n",
    "* Create or open the file named in `input_1` using the access mode specified in `input_3`.\n",
    "* Add `input_2` to the `input_1` file.\n",
    "* Close the `input_1` file. "
   ]
  },
  {
   "cell_type": "code",
   "execution_count": null,
   "metadata": {},
   "outputs": [],
   "source": [
    "# your code here "
   ]
  },
  {
   "cell_type": "markdown",
   "metadata": {},
   "source": [
    "## Practice 9\n",
    "Create a script that prompts the user for the name of a file and then checks to see if that file exists in the *data* subdirectory, relative to the Python script file.\n",
    "\n",
    "The script should produce a meaningful output about whether the file exists or not. Test the script using both an existing file and a file that does not yet exist."
   ]
  },
  {
   "cell_type": "code",
   "execution_count": 17,
   "metadata": {},
   "outputs": [
    {
     "name": "stdout",
     "output_type": "stream",
     "text": [
      "The file doesn't exist.\n"
     ]
    }
   ],
   "source": [
    "# your code here \n",
    "\n",
    "import os\n",
    " \n",
    "if os.path.exists(\"FileIO-DataFiles/missing_file.txt\"):\n",
    "   print(\"The file exists.\")\n",
    "else:\n",
    "   print(\"The file doesn't exist.\")"
   ]
  },
  {
   "cell_type": "code",
   "execution_count": 18,
   "metadata": {},
   "outputs": [
    {
     "name": "stdout",
     "output_type": "stream",
     "text": [
      "The file exists.\n"
     ]
    }
   ],
   "source": [
    "import os\n",
    "if os.path.exists(\"FileIO-DataFiles/test_file.txt\"):\n",
    "   print(\"The file exists.\")\n",
    "else:\n",
    "   print(\"The file doesn't exist.\")"
   ]
  },
  {
   "cell_type": "markdown",
   "metadata": {},
   "source": [
    "## Practice 10a\n",
    "We know now that Python will throw an error if we attempt to delete a file that does not exist, and we know how to check if a file already exists. \n",
    "\n",
    "Write a script that performs the following tasks:\n",
    "* Prompt the user for the name of a file in the relative *data* subdirectory.\n",
    "* Check if the file exists.\n",
    "    * If the file does not exist, return a statement to that effect to the user.\n",
    "    * If the file does exist, delete the file and return an appropriate statement to the user."
   ]
  },
  {
   "cell_type": "code",
   "execution_count": null,
   "metadata": {},
   "outputs": [],
   "source": [
    "# your code here "
   ]
  },
  {
   "cell_type": "markdown",
   "metadata": {},
   "source": [
    "## Practice 10b\n",
    "We saw earlier in this lesson that opening an existing file in `\"x\"` mode throws an error and that `\"w\"` mode overwrites an existing file without warning. Now that we know how to check for an existing file, create a script that performs the following tasks:\n",
    "\n",
    "Prompt the user for three inputs:\n",
    "* `input_1`: A path name\n",
    "* `input_2`: Text that will be stored in the file `input_1`\n",
    "* `input_3`: The read/write mode for the file (`\"a\"`,`\"x\"`,`\"r\"`, or `\"w\"`) \n",
    "\n",
    "The script should complete the following steps:\n",
    "* Create or open the file named in `input_1` using the access mode specified in `input_3`.\n",
    "* If the user specifies access mode `\"x\"`, check if the file exists.\n",
    "    * If the file does not exist, open it.\n",
    "    * If the file already exists, inform the user and suggest that the user open the file in `\"a\"` or `\"w\"` mode instead.\n",
    "    * If the user insists on open an existing file in `\"x\"` mode, display an appropriate error message and exit the program.\n",
    "\n",
    "\n",
    "* If the user specifies access mode `\"w\"`, check if the file exists.\n",
    "    * If the file does not exist, open the file.\n",
    "    * If the file already exists, inform the user and ask whether they want to overwrite the existing file or open the file in `\"a\"` mode instead. Then, open the file in the mode specified.\n",
    "\n",
    "* Add `input_2` to the `input_1` file.\n",
    "* Print the contents of `input_1` to the screen.\n",
    "* Close the `input_1` file."
   ]
  },
  {
   "cell_type": "code",
   "execution_count": null,
   "metadata": {},
   "outputs": [],
   "source": [
    "# your code here"
   ]
  }
 ],
 "metadata": {
  "kernelspec": {
   "display_name": "Python 3",
   "language": "python",
   "name": "python3"
  },
  "language_info": {
   "codemirror_mode": {
    "name": "ipython",
    "version": 3
   },
   "file_extension": ".py",
   "mimetype": "text/x-python",
   "name": "python",
   "nbconvert_exporter": "python",
   "pygments_lexer": "ipython3",
   "version": "3.9.7"
  }
 },
 "nbformat": 4,
 "nbformat_minor": 2
}
