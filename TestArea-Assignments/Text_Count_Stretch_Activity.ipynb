{
 "cells": [
  {
   "cell_type": "markdown",
   "metadata": {
    "vscode": {
     "languageId": "plaintext"
    }
   },
   "source": [
    "# Assignment: Text Count Analysis\n",
    "### Kresda Rattanasudsai"
   ]
  },
  {
   "cell_type": "markdown",
   "metadata": {},
   "source": [
    "## Text Count Function\n",
    "> 1. Convert the string to lowercase characters.\n",
    "> 2. Split the lowercase string into individual words.\n",
    "> 3. Remove the punctuation from the lowercase words. Assume that all punctuation is either the first character or the last character of each item in the list.\n",
    "> 4. Perform a count analysis on the words without punctuation characters.\n",
    "> 5. Display the dictionary with the word counts and the number of distinct words in the original string."
   ]
  },
  {
   "cell_type": "code",
   "execution_count": 1,
   "metadata": {},
   "outputs": [],
   "source": [
    "import string\n",
    "\n",
    "# Text Count Function\n",
    "def text_count(sentence):\n",
    "    s_lower = sentence.lower()\n",
    "    words = str.split(s_lower)\n",
    "\n",
    "    w_clean = []\n",
    "    for word in words:\n",
    "        for letter in word:\n",
    "            if letter in string.punctuation:\n",
    "                word = word.replace(letter,\"\")   \n",
    "        w_clean.append(word)\n",
    "    # The remove function only removes the first occurrence of the element to remove\n",
    "    # To remove multiple instances use while loop \n",
    "    # Remove '' from the list\n",
    "    try:\n",
    "        while True:\n",
    "            w_clean.remove('')\n",
    "    except ValueError:\n",
    "        pass\n",
    "    word_freq = dict()\n",
    "# Create a dictionary of words as key and count as value, starting with zero first\n",
    "    for i in w_clean:\n",
    "        word_freq[i] = 0\n",
    "\n",
    "# Loop through the list of words and if the word appears as a key in the dictionary append 1 to the value\n",
    "    for i in w_clean:\n",
    "        if i in word_freq:\n",
    "            word_freq[i] += 1\n",
    "    print(\"Word Frequency: \", word_freq)\n",
    "    print(\"\\n\")\n",
    "    word_count = len(w_clean)\n",
    "    print(\"Word Count: \", word_count)\n",
    "    "
   ]
  },
  {
   "cell_type": "code",
   "execution_count": 2,
   "metadata": {},
   "outputs": [
    {
     "name": "stdout",
     "output_type": "stream",
     "text": [
      "Word Frequency:  {'imagine': 1, 'a': 3, 'vast': 1, 'sheet': 1, 'of': 5, 'paper': 1, 'on': 2, 'which': 1, 'straight': 1, 'lines': 1, 'triangles': 1, 'squares': 1, 'pentagons': 1, 'hexagons': 1, 'and': 4, 'other': 1, 'figures': 1, 'instead': 1, 'remaining': 1, 'fixed': 1, 'in': 2, 'their': 1, 'places': 1, 'move': 1, 'freely': 1, 'about': 1, 'or': 2, 'the': 2, 'surface': 1, 'but': 2, 'without': 1, 'power': 1, 'rising': 1, 'above': 1, 'sinking': 1, 'below': 1, 'it': 1, 'very': 1, 'much': 1, 'like': 1, 'shadows': 1, 'only': 1, 'hard': 1, 'with': 1, 'luminous': 1, 'edges': 1, 'you': 1, 'will': 1, 'then': 1, 'have': 2, 'pretty': 1, 'correct': 1, 'notion': 1, 'my': 3, 'country': 1, 'countrymen': 1, 'alas': 1, 'few': 1, 'years': 1, 'ago': 1, 'i': 1, 'should': 1, 'said': 1, 'universe': 1, 'now': 1, 'mind': 1, 'has': 1, 'been': 1, 'opened': 1, 'to': 1, 'higher': 1, 'views': 1, 'things': 1}\n",
      "\n",
      "\n",
      "Word Count:  90\n"
     ]
    }
   ],
   "source": [
    "s = \"\"\"Imagine a vast sheet of paper on which straight Lines, Triangles, Squares, Pentagons, Hexagons, and other figures, instead of remaining fixed in their places, move freely about, on or in the surface, but without the power of rising above or sinking below it, very much like shadows - only hard and with luminous edges - and you will then have a pretty correct notion of my country and countrymen. Alas, a few years ago, I should have said \"my universe\": but now my mind has been opened to higher views of things.\"\"\"\n",
    "text_count(s)"
   ]
  },
  {
   "cell_type": "markdown",
   "metadata": {},
   "source": [
    "# Stretch Activity: Text Count Analysis\n",
    "> - Set up the script to allow the user to enter their own text at runtime and perform the operations on the user input.\n",
    "> - Prompt the user for a word and return that word's frequency in a selected string.\n",
    "> - Sort the items in the dictionary alphabetically.\n",
    "> - Sort the items in the dictionary from the highest frequency to the lowest frequency (or vice versa)."
   ]
  },
  {
   "cell_type": "code",
   "execution_count": 28,
   "metadata": {},
   "outputs": [],
   "source": [
    "def user_text_count(sentence, word_fre):\n",
    "    s_lower = sentence.lower()\n",
    "    words = str.split(s_lower)\n",
    "\n",
    "    w_clean = []\n",
    "    for word in words:\n",
    "        for letter in word:\n",
    "            if letter in string.punctuation:\n",
    "                word = word.replace(letter,\"\")   \n",
    "        w_clean.append(word)\n",
    "    # The remove function only removes the first occurrence of the element to remove\n",
    "    # To remove multiple instances use while loop \n",
    "    # Remove '' from the list\n",
    "    try:\n",
    "        while True:\n",
    "            w_clean.remove('')\n",
    "    except ValueError:\n",
    "        pass\n",
    "    word_freq = dict()\n",
    "# Create a dictionary of words as key and count as value, starting with zero first\n",
    "    for i in w_clean:\n",
    "        word_freq[i] = 0\n",
    "\n",
    "# Loop through the list of words and if the word appears as a key in the dictionary append 1 to the value\n",
    "    for i in w_clean:\n",
    "        if i in word_freq:\n",
    "            word_freq[i] += 1\n",
    "    print(\"Word Frequency: \", word_freq)\n",
    "    print(\"\\n\")\n",
    "    word_count = len(w_clean)\n",
    "    print(\"Word Count: \", word_count)\n",
    "    word_frequency = word_freq[word_fre]\n",
    "    print(\"The word \" + \"'\" +user_word + \"'\" + \" appears \" + str(word_frequency) + \" time(s).\")\n",
    "\n",
    "    # Sort the words alphabetically \n",
    "    sorted_words = sorted(word_freq.keys(), key=lambda x: x[0].lower())\n",
    "    print(\"Words Sorted Alphabetically: \", sorted_words)\n",
    "\n",
    "    #sort the words' frequency by largest to smallest as a list\n",
    "    sorted_frequency = sorted(word_freq.items(), key=lambda x: x[1], reverse=True)\n",
    "    print(\"Words' Frequency Sorted by Most-Least Frequent: \", sorted_frequency)\n",
    "\n",
    "    #sort the words' frequency by smallest to largest as a list\n",
    "    sorted_frequency = sorted(word_freq.items(), key=lambda x: x[1])\n",
    "    print(\"Words' Frequency Sorted by Least-Most Frequent: \", sorted_frequency)\n",
    "    \n",
    "    "
   ]
  },
  {
   "cell_type": "code",
   "execution_count": 29,
   "metadata": {},
   "outputs": [
    {
     "name": "stdout",
     "output_type": "stream",
     "text": [
      "Your sentence is:  today is sunday, sunday will arrive again \n",
      "Word Frequency:  {'today': 1, 'is': 1, 'sunday': 2, 'will': 1, 'arrive': 1, 'again': 1}\n",
      "\n",
      "\n",
      "Word Count:  7\n",
      "The word 'sunday' appears 2 time(s).\n",
      "Words Sorted Alphabetically:  ['arrive', 'again', 'is', 'sunday', 'today', 'will']\n",
      "Words' Frequency Sorted by Most-Least Frequent:  [('sunday', 2), ('today', 1), ('is', 1), ('will', 1), ('arrive', 1), ('again', 1)]\n",
      "Words' Frequency Sorted by Least-Most Frequent:  [('today', 1), ('is', 1), ('will', 1), ('arrive', 1), ('again', 1), ('sunday', 2)]\n"
     ]
    }
   ],
   "source": [
    "import string\n",
    "user_input = input(\"Enter a sentence \")\n",
    "\n",
    "print(\"Your sentence is: \", user_input)\n",
    "user_word = input(\"Enter a word from your sentence to find its frequency: \")\n",
    "\n",
    "\n",
    "user_text_count(user_input, user_word)\n",
    "\n",
    "\n"
   ]
  },
  {
   "cell_type": "code",
   "execution_count": null,
   "metadata": {},
   "outputs": [],
   "source": []
  },
  {
   "cell_type": "code",
   "execution_count": null,
   "metadata": {},
   "outputs": [],
   "source": []
  },
  {
   "cell_type": "code",
   "execution_count": 27,
   "metadata": {},
   "outputs": [
    {
     "name": "stdout",
     "output_type": "stream",
     "text": [
      "Word Frequency:  {'today': 1, 'is': 1, 'sunday': 2, 'will': 1, 'come': 1, 'again': 1}\n",
      "Words Sorted Alphabetically:  ['again', 'come', 'is', 'sunday', 'today', 'will']\n",
      "Words' Frequency Sorted by Most-Least Frequent:  [('sunday', 2), ('today', 1), ('is', 1), ('will', 1), ('come', 1), ('again', 1)]\n",
      "Words' Frequency Sorted by Least-Most Frequent:  [('today', 1), ('is', 1), ('will', 1), ('come', 1), ('again', 1), ('sunday', 2)]\n"
     ]
    }
   ],
   "source": [
    "sentence = 'today is sunday, sunday will come again'\n",
    "word_fre = 'sunday'\n",
    "\n",
    "s_lower = sentence.lower()\n",
    "words = str.split(s_lower)\n",
    "\n",
    "w_clean = []\n",
    "for word in words:\n",
    "    for letter in word:\n",
    "        if letter in string.punctuation:\n",
    "            word = word.replace(letter,\"\")   \n",
    "    w_clean.append(word)\n",
    "# The remove function only removes the first occurrence of the element to remove\n",
    "# To remove multiple instances use while loop \n",
    "# Remove '' from the list\n",
    "try:\n",
    "    while True:\n",
    "        w_clean.remove('')\n",
    "except ValueError:\n",
    "    pass\n",
    "word_freq = dict()\n",
    "# Create a dictionary of words as key and count as value, starting with zero first\n",
    "for i in w_clean:\n",
    "    word_freq[i] = 0\n",
    "\n",
    "# Loop through the list of words and if the word appears as a key in the dictionary append 1 to the value\n",
    "for i in w_clean:\n",
    "    if i in word_freq:\n",
    "        word_freq[i] += 1\n",
    "print(\"Word Frequency: \", word_freq)\n",
    "# print(\"\\n\")\n",
    "# word_count = len(w_clean)\n",
    "# print(\"Word Count: \", word_count)\n",
    "# word_frequency = word_freq[word_fre]\n",
    "# print(\"The word \" + \"'\" +user_word + \"'\" + \" appears \" + str(word_frequency) + \" time(s).\")\n",
    "\n",
    "# Sort the words alphabetically \n",
    "sorted_words = sorted(word_freq.keys(), key=lambda x: x[0].lower())\n",
    "print(\"Words Sorted Alphabetically: \", sorted_words)\n",
    "\n",
    "#sort the words' frequency by largest to smallest as a list\n",
    "sorted_frequency = sorted(word_freq.items(), key=lambda x: x[1], reverse=True)\n",
    "print(\"Words' Frequency Sorted by Most-Least Frequent: \", sorted_frequency)\n",
    "\n",
    "#sort the words' frequency by smallest to largest as a list\n",
    "sorted_frequency = sorted(word_freq.items(), key=lambda x: x[1])\n",
    "print(\"Words' Frequency Sorted by Least-Most Frequent: \", sorted_frequency)\n",
    "\n",
    "    "
   ]
  },
  {
   "cell_type": "code",
   "execution_count": null,
   "metadata": {},
   "outputs": [],
   "source": []
  }
 ],
 "metadata": {
  "interpreter": {
   "hash": "a8822641e88d7c74114f38a155dc8686f9f41cc7c790ba54cfc07cc82201c3e7"
  },
  "kernelspec": {
   "display_name": "Python 3.9.7 ('base')",
   "language": "python",
   "name": "python3"
  },
  "language_info": {
   "codemirror_mode": {
    "name": "ipython",
    "version": 3
   },
   "file_extension": ".py",
   "mimetype": "text/x-python",
   "name": "python",
   "nbconvert_exporter": "python",
   "pygments_lexer": "ipython3",
   "version": "3.9.7"
  },
  "orig_nbformat": 4
 },
 "nbformat": 4,
 "nbformat_minor": 2
}
