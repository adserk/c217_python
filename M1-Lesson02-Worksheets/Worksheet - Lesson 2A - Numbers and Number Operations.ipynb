{
 "cells": [
  {
   "cell_type": "markdown",
   "metadata": {},
   "source": [
    "# Worksheet: Numbers and Number Operations\n",
    "This worksheet includes the practice activities for *Lesson 2A: Numbers and Number Operations* in the online course. Refer to that lesson as necessary to complete these activities."
   ]
  },
  {
   "cell_type": "markdown",
   "metadata": {},
   "source": [
    "## Practice 1 \n",
    "Create these variables:\n",
    "* One variable to store the number of days in a year\n",
    "* One variable to store the number of minutes in a day\n",
    "* Two variables to store the latitude and longitude of the city where you live \n",
    "\n",
    "You can use the [LatLong.net](https://www.latlong.net/) website to retrieve the latitude and longitude values of your city. "
   ]
  },
  {
   "cell_type": "code",
   "execution_count": null,
   "metadata": {
    "collapsed": true
   },
   "outputs": [],
   "source": [
    "# your code here\n",
    "\n",
    "days = 365\n",
    "minutes = 1440\n",
    "latitude = 51.507351\n",
    "longitude = -0.127758"
   ]
  },
  {
   "cell_type": "markdown",
   "metadata": {},
   "source": [
    "## Practice 2\n",
    "* Modify the code below so that Python displays the type for each of the variables.\n",
    "* Create a new variable that uses only numeric characters, but define it as a string. Use `type` to verify that Python treats it as a string."
   ]
  },
  {
   "cell_type": "code",
   "execution_count": null,
   "metadata": {},
   "outputs": [],
   "source": [
    "age = 33 #integer \n",
    "tax_rate = 0.06  #float type\n",
    "coordinates = 1+3.4j #complex type z : a+b*j\n",
    "print(age)\n",
    "print(tax_rate)\n",
    "print(coordinates)"
   ]
  },
  {
   "cell_type": "markdown",
   "metadata": {},
   "source": [
    "## Practice 3\n",
    "Create a Python script that starts with three declared values, `a`, `b`, and `c`, with numeric values of your choice.\n",
    "\n",
    "Using those values, perform the following calculations and print the results of each:\n",
    "\n",
    "* `a` plus `b` minus `c`\n",
    "* `a` minus `b` times `c`\n",
    "* `a` divided by `b` divided by `c`\n",
    "* The remainder of `a` divided by `b` to the power of `c`\n",
    "* `a` plus `c` divided by `b`"
   ]
  },
  {
   "cell_type": "code",
   "execution_count": 3,
   "metadata": {
    "collapsed": true
   },
   "outputs": [
    {
     "name": "stdout",
     "output_type": "stream",
     "text": [
      "7\n",
      "-20\n",
      "0.09375\n",
      "81\n",
      "0.875\n"
     ]
    }
   ],
   "source": [
    "# your code here\n",
    "a = 3\n",
    "b = 8\n",
    "c = 4\n",
    "\n",
    "print ( a + b - c )\n",
    "print ( (a - b) * (c) )\n",
    "print ( (a / b) / (c) )\n",
    "print ( (a % b) ** (c) )\n",
    "print ( (a + c) / (b) )"
   ]
  },
  {
   "cell_type": "markdown",
   "metadata": {},
   "source": [
    "## Practice 4\n",
    "Create a Python script that starts with three declared values, `a`, `b`, and `c`, with numeric values of your choice.\n",
    "\n",
    "Using those values, perform the following calculations and print the results of each. For each calculation, use a single statement that executes the operations in the order described here:\n",
    "\n",
    "* `c` plus `a`, minus `b`\n",
    "* `c` minus `a`, times `b`\n",
    "* `c` divided by `a`, with the result divided by `b`\n",
    "* The remainder of `c` divided by `a`, then the remainder to the power of `b`\n",
    "* `c` plus `b`, divided by `a`\n"
   ]
  },
  {
   "cell_type": "code",
   "execution_count": 4,
   "metadata": {},
   "outputs": [
    {
     "name": "stdout",
     "output_type": "stream",
     "text": [
      "6\n",
      "-24\n",
      "0.0625\n",
      "16\n",
      "0.75\n"
     ]
    }
   ],
   "source": [
    "# your code here\n",
    "\n",
    "a = 8\n",
    "b = 4\n",
    "c = 2\n",
    "\n",
    "print ( (c + a ) - b )\n",
    "print ( (c - a) * b )\n",
    "print ( (c / a) / b )\n",
    "print ( (c % a) ** b )\n",
    "print ( (c + b) / a )"
   ]
  },
  {
   "cell_type": "markdown",
   "metadata": {},
   "source": [
    "## Practice 5\n",
    "Create a series of variables, `a`, `b`, and `c`, using float values of your choice.\n",
    "\n",
    "Create expressions that perform the following calculations:\n",
    "* `a` multiplied by `c`, with the result rounded up to the closest integer\n",
    "* `a` divided by `b`, with the result rounded down to the closest integer\n",
    "* The square root of `b`, rounded to three decimal places\n",
    "* `c` plus `b`, divided by `a`, with the result rounded up to the closest integer\n",
    "* The binary equivalent of `b` rounded to the closest integer"
   ]
  },
  {
   "cell_type": "code",
   "execution_count": 20,
   "metadata": {},
   "outputs": [
    {
     "name": "stdout",
     "output_type": "stream",
     "text": [
      "27\n",
      "27\n",
      "1\n",
      "1.732\n",
      "2\n"
     ]
    },
    {
     "data": {
      "text/plain": [
       "'0b11'"
      ]
     },
     "execution_count": 20,
     "metadata": {},
     "output_type": "execute_result"
    }
   ],
   "source": [
    "# your code here\n",
    "import math\n",
    "a = 4.3\n",
    "b = 3\n",
    "c = 6.2\n",
    "\n",
    "print ( round( a * c ) )\n",
    "print ( math.ceil( a * c ) )\n",
    "print ( math.floor( a / b ) )\n",
    "print ( round (math.sqrt(b), 3) )\n",
    "print ( round (( c + b) / a ) )\n",
    "# print ( round ( bin(b) ) )\n",
    "bin (b)"
   ]
  },
  {
   "cell_type": "markdown",
   "metadata": {},
   "source": [
    "## Practice 6\n",
    "Create a Python script that performs the following steps: \n",
    "* Assign a floating point number of your choice to a variable `num1`.\n",
    "* Round `num1` up to the nearest integer and stores the result in a variable `a`.\n",
    "* Assign a second floating point number of your choice to a variable `num2`.\n",
    "* Round `num2` down to the nearest integer and store the result in a variable `b`.\n",
    "* Print the sum of `a` and `b`."
   ]
  },
  {
   "cell_type": "code",
   "execution_count": 23,
   "metadata": {
    "collapsed": true
   },
   "outputs": [
    {
     "name": "stdout",
     "output_type": "stream",
     "text": [
      "8\n"
     ]
    }
   ],
   "source": [
    "# your code here\n",
    "num1 = 5.8\n",
    "a = math.ceil(a)\n",
    "num2 = 3.9\n",
    "b = round(b)\n",
    "print (a + b)"
   ]
  },
  {
   "cell_type": "code",
   "execution_count": null,
   "metadata": {},
   "outputs": [],
   "source": [
    "import math \n",
    "dir(math)"
   ]
  },
  {
   "cell_type": "markdown",
   "metadata": {},
   "source": [
    "## Practice 7a\n",
    "Create a script that performs the following steps:\n",
    "1. Prompt the user for a four-digit year.\n",
    "1. Prompt the user to enter an integer of their choice.\n",
    "1. Display the year it will be after that many years from the original input year, with an appropriate feedback message.\n",
    "\n",
    "For example, if the user inputs 2020 and 42, the result should be 2062."
   ]
  },
  {
   "cell_type": "code",
   "execution_count": 29,
   "metadata": {},
   "outputs": [
    {
     "name": "stdout",
     "output_type": "stream",
     "text": [
      "The year is  2013\n",
      "The chosen integer is:  800\n",
      "The Year will be:  2813\n"
     ]
    }
   ],
   "source": [
    "# your code here\n",
    "a = int (input (\"Enter a 4-digit year: \") )\n",
    "b = int ( input (\"Enter an integer: \") ) \n",
    "num = (a + b)\n",
    "print (\"The year is \", a)\n",
    "print (\"The chosen integer is: \", b  )\n",
    "print (\"The Year will be: \", num)"
   ]
  },
  {
   "cell_type": "markdown",
   "metadata": {},
   "source": [
    "## Practice 7b\n",
    "Create a script that calculates the sales tax on a purchase and displays the total purchase price.\n",
    "1. Prompt the user for a pre-tax total.\n",
    "1. Prompt the user for the local sales tax.\n",
    "1. Multiply the pre-tax total by the local sales tax and add the result to the pre-tax total.\n",
    "1. Display the total price to the user with an appropriate feedback message.\n",
    "\n",
    "**Tip**: Think about whether `int()` or `float()` would be better here. Why?"
   ]
  },
  {
   "cell_type": "code",
   "execution_count": 36,
   "metadata": {},
   "outputs": [
    {
     "name": "stdout",
     "output_type": "stream",
     "text": [
      "Total Price:  240.0\n"
     ]
    }
   ],
   "source": [
    "# your code here\n",
    "pretax = float ( input (\"Enter Pre-Tax total: \") ) \n",
    "\n",
    "tax = float ( input (\"Enter Sales Tax as percent: \"))\n",
    "tax1 = tax/100\n",
    "num = (pretax * tax1 ) + pretax\n",
    "print ( \"Total Price: \", num )\n"
   ]
  },
  {
   "cell_type": "code",
   "execution_count": 34,
   "metadata": {},
   "outputs": [
    {
     "data": {
      "text/plain": [
       "[15, 45, 30, 25, 10, 20, 40, 35]"
      ]
     },
     "execution_count": 34,
     "metadata": {},
     "output_type": "execute_result"
    }
   ],
   "source": [
    "import random \n",
    "lst = [10, 15, 20, 25, 30, 35, 40, 45] \n",
    "random.choice(lst)\n",
    "max(80, 100, 1000)\n",
    "max(-80, -100, -1000)\n",
    "\n",
    "min(80, 100, 1000)\n",
    "min(-80, -100, -1000)\n",
    "\n",
    "math.pow(100, -2)\n",
    "\n",
    "random.shuffle(lst)\n",
    "lst"
   ]
  },
  {
   "cell_type": "code",
   "execution_count": null,
   "metadata": {},
   "outputs": [],
   "source": []
  }
 ],
 "metadata": {
  "kernelspec": {
   "display_name": "Python 3",
   "language": "python",
   "name": "python3"
  },
  "language_info": {
   "codemirror_mode": {
    "name": "ipython",
    "version": 3
   },
   "file_extension": ".py",
   "mimetype": "text/x-python",
   "name": "python",
   "nbconvert_exporter": "python",
   "pygments_lexer": "ipython3",
   "version": "3.9.7"
  }
 },
 "nbformat": 4,
 "nbformat_minor": 2
}
