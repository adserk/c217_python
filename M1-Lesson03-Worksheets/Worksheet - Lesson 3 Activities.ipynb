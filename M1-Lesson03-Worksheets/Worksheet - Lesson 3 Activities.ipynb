{
 "cells": [
  {
   "cell_type": "markdown",
   "metadata": {},
   "source": [
    "# Lesson 3 Activities\n",
    "The following activities are provided to allow you to demonstrate the objectives for this lesson:\n",
    "* Use an `if` statement to determine the outcome of a program.\n",
    "* Use an `if-else` statement to define two potential outcomes.\n",
    "* Use nested `if` statements to define more than two potential outcomes.\n",
    "\n",
    "Complete each activity and make sure that the code runs without errors before completing the next activity."
   ]
  },
  {
   "cell_type": "markdown",
   "metadata": {},
   "source": [
    "## Activity 1\n",
    "Write a program that asks the user how much money they have in their wallet. The program should output \"You're rich!\" if the user inputs 20 or more and \"You're broke!\" if the input is less than 20."
   ]
  },
  {
   "cell_type": "code",
   "execution_count": 3,
   "metadata": {},
   "outputs": [
    {
     "name": "stdout",
     "output_type": "stream",
     "text": [
      "You're rich!\n"
     ]
    }
   ],
   "source": [
    "# your code here\n",
    "\n",
    "money = float(input(\"Enter how much money you have in your wallet:\"))\n",
    "if money >= 20:\n",
    "    print (\"You're rich!\")\n",
    "elif money < 20:\n",
    "    print (\"You're broke\")"
   ]
  },
  {
   "cell_type": "markdown",
   "metadata": {},
   "source": [
    "## Activity 2\n",
    "Write a program that performs the following steps:\n",
    "1. Ask the user if they own any cats. (Yes/No answer)\n",
    "1. Ask the user if they own any dogs. (Yes/No answer)\n",
    "1. If the user responses indicate that they have both cats and dogs, output: \"You must really love pets!\"\n",
    "1. Otherwise, the output should be: \"Maybe you need more pets.\"\n",
    "\n",
    "The last step will apply if the user has cats but not dogs, dogs but not cats, and neither cats nor dogs.\n",
    "\n",
    "Write two different versions of this program: one that uses only `if` statements and another that uses `if-else` statements."
   ]
  },
  {
   "cell_type": "code",
   "execution_count": 7,
   "metadata": {},
   "outputs": [
    {
     "name": "stdout",
     "output_type": "stream",
     "text": [
      "Maybe you need more pets\n"
     ]
    }
   ],
   "source": [
    "# program using only if statements\n",
    "cats = input (\"Do you own any cats? (yes/no):\")\n",
    "dogs = input (\"Do you own any dogs? (yes/no):\")\n",
    "\n",
    "if cats == \"yes\" and dogs == \"yes\" :\n",
    "    print (\"You must really love pets!\")\n",
    "if cats == 'no' or dogs == 'yes':\n",
    "    print (\"Maybe you need more pets\")\n",
    "if cats == 'yes' or dogs == \"no\":\n",
    "    print (\"Maybe you need more pets\")\n"
   ]
  },
  {
   "cell_type": "code",
   "execution_count": 8,
   "metadata": {},
   "outputs": [
    {
     "name": "stdout",
     "output_type": "stream",
     "text": [
      "Maybe you need more pets\n"
     ]
    }
   ],
   "source": [
    "# program using if-else statements\n",
    "cats = input (\"Do you own any cats? (yes/no):\")\n",
    "dogs = input (\"Do you own any dogs? (yes/no):\")\n",
    "\n",
    "if cats == \"yes\" and dogs == \"yes\" :\n",
    "    print (\"You must really love pets!\")\n",
    "else:\n",
    "    print (\"Maybe you need more pets\")\n"
   ]
  },
  {
   "cell_type": "markdown",
   "metadata": {},
   "source": [
    "## Activity 3\n",
    "Create a computer program that asks the user a few questions to which the user will respond either True or False. Display all the questions with the correct answer and the user's answers at the end of the program, along with the user's the correct response rate (number of questions answered correctly/number of questions)."
   ]
  },
  {
   "cell_type": "code",
   "execution_count": 18,
   "metadata": {},
   "outputs": [
    {
     "name": "stdout",
     "output_type": "stream",
     "text": [
      "True or false\n",
      "The sky is blue\n",
      "Correct\n",
      "The Earth is flat\n",
      "Incorrect\n",
      "The Earth is flat\n",
      "Correct\n",
      "100.0\n"
     ]
    }
   ],
   "source": [
    "# your code here\n",
    "print(\"True or false\")\n",
    "question = [\"The sky is blue\", \"The Earth is flat\" ]\n",
    "answer = [\"true\", \"false\"]\n",
    "correct_count = 0\n",
    "question_count = len(question)\n",
    "\n",
    "for count, value in enumerate(question):\n",
    "    print (question[count])\n",
    "    user_input = input (\"True or False\")\n",
    "    while user_input != answer[count]:\n",
    "            print(\"Incorrect\")\n",
    "            print (question[count])\n",
    "            user_input = input (\"True or False\")\n",
    "    if user_input == answer[count]:\n",
    "        print (\"Correct\")\n",
    "        correct_count += 1\n",
    "\n",
    "correct_rate = (correct_count / question_count ) * 100\n",
    "print(correct_rate)\n"
   ]
  },
  {
   "cell_type": "code",
   "execution_count": 22,
   "metadata": {},
   "outputs": [
    {
     "name": "stdout",
     "output_type": "stream",
     "text": [
      "True or false\n",
      "The sky is blue\n",
      "Correct\n",
      "The Earth is flat\n",
      "Incorrect\n",
      "50.0 %\n"
     ]
    }
   ],
   "source": [
    "print(\"True or false\")\n",
    "question = [\"The sky is blue\", \"The Earth is flat\" ]\n",
    "answer = [\"true\", \"false\"]\n",
    "correct_count = 0\n",
    "question_count = len(question)\n",
    "\n",
    "for count, value in enumerate(question):\n",
    "    print (question[count])\n",
    "    user_input = input (\"True or False\")\n",
    "    if user_input == answer[count]:\n",
    "        print (\"Correct\")\n",
    "        correct_count += 1\n",
    "    elif user_input != answer[count]:\n",
    "        print(\"Incorrect\")\n",
    "\n",
    "correct_rate = (correct_count / question_count ) * 100\n",
    "print(correct_rate, \"%\")"
   ]
  },
  {
   "cell_type": "markdown",
   "metadata": {},
   "source": [
    "## Activity 4\n",
    "Write a program that uses `elif` to produce five different possible outcomes based on a single user input.\n",
    "1. Ask the user what season it is (fall, winter, spring, or summer).\n",
    "1. If the user enters fall, output: \"I bet the leaves are pretty there!\"\n",
    "1. If the user enters winter, output: \"I hope you're ready for snow!\"\n",
    "1. If the user enters spring, output: \"I can smell the flowers!\"\n",
    "1. If the user enters summer, output: \"Make sure your AC is working!\"\n",
    "1. If the user enters a value that does not correspond to a season, output: \"I don't recognize that season.\"\n",
    "\n",
    "The user should be able to enter the name of the season in any case and the program will still work.\n",
    "\n",
    "**Challenge**: After you have the program working as describe above, modify the program so that the user can enter either \"fall\" or \"autumn\" and get the same result."
   ]
  },
  {
   "cell_type": "code",
   "execution_count": 24,
   "metadata": {},
   "outputs": [
    {
     "name": "stdout",
     "output_type": "stream",
     "text": [
      "Make sure your AC is working!\n"
     ]
    }
   ],
   "source": [
    "# your code here\n",
    "user_input = input (\"What is the current season?\")\n",
    "\n",
    "if user_input == \"fall\":\n",
    "    print (\"I bet the leaves are pretty there!\")\n",
    "elif user_input == \"winter\":\n",
    "    print (\"I hope you're ready for snow!\")\n",
    "elif user_input == \"spring\":\n",
    "    print (\"I can smell the flowers!\")\n",
    "elif user_input == \"summer\":\n",
    "    print (\"Make sure your AC is working!\")\n",
    "else:\n",
    "    print (\"I don't recognize that season.\")"
   ]
  },
  {
   "cell_type": "code",
   "execution_count": null,
   "metadata": {},
   "outputs": [],
   "source": []
  }
 ],
 "metadata": {
  "kernelspec": {
   "display_name": "Python 3",
   "language": "python",
   "name": "python3"
  },
  "language_info": {
   "codemirror_mode": {
    "name": "ipython",
    "version": 3
   },
   "file_extension": ".py",
   "mimetype": "text/x-python",
   "name": "python",
   "nbconvert_exporter": "python",
   "pygments_lexer": "ipython3",
   "version": "3.9.7"
  }
 },
 "nbformat": 4,
 "nbformat_minor": 2
}
