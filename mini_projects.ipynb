{
 "cells": [
  {
   "cell_type": "code",
   "execution_count": null,
   "metadata": {},
   "outputs": [],
   "source": [
    "import random \n",
    "n = random.random()\n",
    "\n",
    "randomlist = []\n",
    "for i in range (0,10):\n",
    "    m = random.randint(1,20)\n",
    "    randomlist.append(m)\n",
    "    \n",
    "print(randomlist)\n",
    "\n"
   ]
  },
  {
   "cell_type": "code",
   "execution_count": null,
   "metadata": {},
   "outputs": [],
   "source": [
    "r = 1\n",
    "for i in range (6):\n",
    "    r = r + 1\n",
    "    print (r)\n",
    "    \n"
   ]
  },
  {
   "cell_type": "code",
   "execution_count": null,
   "metadata": {},
   "outputs": [],
   "source": [
    "''''Given two integer numbers return their product only if the product is greater than 1000, else return their sum.'''\n",
    "number1 = 30\n",
    "number2 = 20\n",
    "p = number1*number2\n",
    "if p > 1000:\n",
    "    print (p)\n",
    "else: \n",
    "    print (\"The result is =\", number1*number2)"
   ]
  },
  {
   "cell_type": "code",
   "execution_count": null,
   "metadata": {},
   "outputs": [],
   "source": [
    "name = input(\"Enter Employee Name: \")\n",
    "print (name)"
   ]
  },
  {
   "cell_type": "code",
   "execution_count": null,
   "metadata": {},
   "outputs": [],
   "source": [
    "\"\"\"Check if input is less than 1000, more than 1000 or equal to 1000\"\"\"\n",
    "n1 = int(input(\"Enter number 1: \"))\n",
    "n2 = int(input(\"Enter number 2: \",))\n",
    "\n",
    "print (type(n1))\n",
    "product = n1*n2\n",
    "if product > 1000:\n",
    "    print (\"The product is\", n1*n2, \"which is more than 1000\")\n",
    "elif (product == 1000):\n",
    "    print (\"The product is\", n1*n2)\n",
    "else:\n",
    "    print(\"The product is\", n1*n2, \"which is less than 1000\")"
   ]
  },
  {
   "cell_type": "code",
   "execution_count": null,
   "metadata": {},
   "outputs": [],
   "source": [
    "'''''Write a Python program find a list of integers with exactly two \n",
    "occurrences of nineteen and at least three occurrences of five.''''\n"
   ]
  },
  {
   "cell_type": "code",
   "execution_count": null,
   "metadata": {},
   "outputs": [],
   "source": [
    "L = [19, 19, 15, 5, 3, 5, 5, 2]\n",
    "\n",
    "if 15 in L:\n",
    "    print (\"true\")"
   ]
  },
  {
   "cell_type": "code",
   "execution_count": null,
   "metadata": {},
   "outputs": [],
   "source": [
    "L = [19, 19, 15, 5, 3, 5, 5, 2]\n",
    "nineteen = L.count(19)\n",
    "five = L.count(5)\n",
    "if nineteen == 2 and five >= 3:\n",
    "    print(\"true\")\n",
    "else:\n",
    "    print(\"false\")"
   ]
  },
  {
   "cell_type": "code",
   "execution_count": null,
   "metadata": {},
   "outputs": [],
   "source": [
    "# Write a Python program that accept a list of integers and check the length and the fifth element. \n",
    "# Return true if the length of the list is 8 and fifth element occurs thrice in the said list.\n",
    "\n",
    "List = [19, 19, 15, 5, 5, 5, 1, 2]\n",
    "ListLenght = (len(List))\n",
    "\n",
    "\n",
    "fifth = List[4] #return the fifth element in a list\n",
    "print ('Fifth element is =', fifth)\n",
    "counter = List.count(fifth) # counts number of times the fifth element occurs\n",
    "print('Number of times the fifth element occurs =', counter)\n",
    "if ListLenght == 8 and counter >= 3:\n",
    "    print ('true')\n",
    "else:\n",
    "    print ('false')"
   ]
  },
  {
   "cell_type": "code",
   "execution_count": null,
   "metadata": {},
   "outputs": [],
   "source": [
    "def listcheck (x):\n",
    "    List = x\n",
    "    ListLenght = (len(List))\n",
    "\n",
    "    fifth = List[4] #return the fifth element in a list\n",
    "    print ('Fifth element is =', fifth)\n",
    "    counter = List.count(fifth) # counts number of times the fifth element occurs\n",
    "    print('Number of times the fifth element occurs =', counter)\n",
    "    if ListLenght == 8 and counter >= 3:\n",
    "        print ('true')\n",
    "    else:\n",
    "        print ('false')\n",
    "listcheck([19, 19, 15, 5, 5, 5, 1, 2])"
   ]
  },
  {
   "cell_type": "code",
   "execution_count": null,
   "metadata": {},
   "outputs": [],
   "source": [
    "# Write a Python program that accept an integer test whether an integer greater than 4^4 and which is 4 mod 34\n",
    "4**4 = 256\n",
    "def IntCheck (c):\n",
    "    if c > 4**4:\n",
    "        print ('true')\n",
    "    else:\n",
    "        print ('false')\n",
    "        \n",
    "IntCheck(914)"
   ]
  },
  {
   "cell_type": "code",
   "execution_count": null,
   "metadata": {},
   "outputs": [],
   "source": [
    "# odd or even\n",
    "a = int(input(\"Enter a number: \"))\n",
    "if a%2 == 0: # the remainder operator checks the left over after dividing by 2\n",
    "    print(\"Number is even\")\n",
    "else:\n",
    "    print(\"Number is odd\")\n",
    "    "
   ]
  },
  {
   "cell_type": "code",
   "execution_count": null,
   "metadata": {},
   "outputs": [],
   "source": [
    "# Write a program (function!) that takes a list and returns a \n",
    "# new list that contains all the elements of the first list minus all the duplicates.\n",
    "def deduplicate (x):\n",
    "    y = []\n",
    "    for i in x:\n",
    "        if i not in y:\n",
    "            y.append(i)\n",
    "            \n",
    "    return y  # returns a list of de-duplicates\n",
    "deduplicate([3,2,4,4,5,5,6,7])\n",
    "            "
   ]
  },
  {
   "cell_type": "code",
   "execution_count": null,
   "metadata": {},
   "outputs": [],
   "source": [
    "# translate the years of birth into ages\n",
    "years_of_birth = [1990, 1991, 1990, 1990, 1992, 1991]\n",
    "ages = []\n",
    "year = 2021\n",
    "for i in years_of_birth:\n",
    "    ages.append(year-i)\n",
    " \n",
    "print(ages)"
   ]
  },
  {
   "cell_type": "code",
   "execution_count": null,
   "metadata": {},
   "outputs": [],
   "source": [
    "# Turn a list into one with only even elements\n",
    "a = [1, 4, 9, 16, 25, 36, 49, 64, 81, 100]\n",
    "even = []\n",
    "for i in a:\n",
    "    if i%2 == 0:\n",
    "        even.append(i)\n",
    "print (even)"
   ]
  },
  {
   "cell_type": "code",
   "execution_count": null,
   "metadata": {},
   "outputs": [],
   "source": [
    "# write a program that prints out all the elements of the list that are less than 5.\n",
    "b = [1, 1, 2, 3, 5, 8, 13, 21, 34, 55, 89]\n",
    "c = []\n",
    "for i in b:\n",
    "    if i < 5:\n",
    "        c.append(i)\n",
    "print (c) "
   ]
  },
  {
   "cell_type": "code",
   "execution_count": null,
   "metadata": {},
   "outputs": [],
   "source": [
    "# Write a program that asks the user how many Fibonnaci numbers to generate and then generates them.\n",
    "# The Fibonnaci seqence is a sequence of numbers where the next \n",
    "# number in the sequence is the sum of the previous two numbers in the sequence. \n",
    "# The sequence looks like this: 1, 1, 2, 3, 5, 8, 13, …)\n",
    "\n",
    "num = 20\n",
    "\n",
    "fib = [1,1]\n",
    "for i in range (num-2):\n",
    "    fib.append(fib[i]+fib[i+1])\n",
    "    \n",
    "print(fib)"
   ]
  },
  {
   "cell_type": "code",
   "execution_count": null,
   "metadata": {},
   "outputs": [],
   "source": [
    "# given a list order it into chronological order smallest to largest"
   ]
  },
  {
   "cell_type": "code",
   "execution_count": null,
   "metadata": {},
   "outputs": [],
   "source": [
    "lis = [90, 1999, 4, 50, 32, 65, 7, 43]\n",
    "\n",
    "n = sorted(lis)\n",
    "print (n)\n",
    "for i in n:\n",
    "    print(i)"
   ]
  },
  {
   "cell_type": "code",
   "execution_count": 20,
   "metadata": {},
   "outputs": [
    {
     "name": "stdout",
     "output_type": "stream",
     "text": [
      "Input a number to check: 6\n"
     ]
    },
    {
     "data": {
      "text/plain": [
       "[4, 6, 7, 32, 43, 50, 65, 90, 1999]"
      ]
     },
     "execution_count": 20,
     "metadata": {},
     "output_type": "execute_result"
    }
   ],
   "source": [
    "# Find if a number is inside the list and add it if it is not\n",
    "def search_add(x):\n",
    "    n = [4, 7, 32, 43, 50, 65, 90, 1999]\n",
    "    h = x\n",
    "    if h not in n: \n",
    "        n.append(h)\n",
    "    else:\n",
    "        print (\"Number already exist\")\n",
    "    n = sorted(n)   \n",
    "    \n",
    "    return (n)\n",
    "search_add(int(input(\"Input a number to check: \")))"
   ]
  },
  {
   "cell_type": "code",
   "execution_count": 5,
   "metadata": {},
   "outputs": [
    {
     "name": "stdout",
     "output_type": "stream",
     "text": [
      "20/09/1997\n",
      "No element exist\n"
     ]
    }
   ],
   "source": [
    "# Birthday Dictionaries\n",
    "birthday_dictionary = {\"Tiana\" : '20/09/1997'}\n",
    "print(birthday_dictionary.get('Tiana', 'No element exist'))\n",
    "print(birthday_dictionary.get('tiana', 'No element exist'))\n",
    "\n"
   ]
  },
  {
   "cell_type": "code",
   "execution_count": null,
   "metadata": {},
   "outputs": [],
   "source": []
  }
 ],
 "metadata": {
  "kernelspec": {
   "display_name": "Python 3 (ipykernel)",
   "language": "python",
   "name": "python3"
  },
  "language_info": {
   "codemirror_mode": {
    "name": "ipython",
    "version": 3
   },
   "file_extension": ".py",
   "mimetype": "text/x-python",
   "name": "python",
   "nbconvert_exporter": "python",
   "pygments_lexer": "ipython3",
   "version": "3.9.7"
  }
 },
 "nbformat": 4,
 "nbformat_minor": 4
}
