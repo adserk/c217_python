{
 "cells": [
  {
   "cell_type": "markdown",
   "metadata": {},
   "source": [
    "# Classes and Objects Self-Assessment: A Simple Calculator\n",
    "The objective of this lab is to practice designing and implementing a program that has more than one class. To that end, you will build a basic calculator that allows the user to input two values and an operator and then outputs the results.\n",
    "\n",
    "Your program should include the following:\n",
    "\n",
    "> - Design a class called SimpleCalculator that performs basic math operations (addition, subtraction, multiplication, division) on two operands.\n",
    "> - - Create a separate method for each operation in the class.\n",
    "> - The program should accept two values and an operator from the user, perform the selected operation using those two values, and display the result to the user in a meaningful way.\n",
    "> - The user should be able to exit the program at any time, using a keyword like \"Quit\" or \"Exit\" in any letter case.\n",
    "> - - If the user chooses to exit, the program should end with an appropriate output message thanking the user."
   ]
  },
  {
   "cell_type": "code",
   "execution_count": 28,
   "metadata": {},
   "outputs": [
    {
     "name": "stdout",
     "output_type": "stream",
     "text": [
      "Which operator would you like? \n",
      " 1. Addition (Enter: 1) \n",
      " 2. Subtraction (Enter: 2) \n",
      " 3. Multiplication (Enter: 3) \n",
      " 4. Division (Enter: 4)\n",
      "You chose Division.\n",
      "Divided 30 by 50.\n",
      "Result:  0.6\n"
     ]
    }
   ],
   "source": [
    "class SimpleCalculator():\n",
    "    def __init__(self,a,b):\n",
    "        self.a = a\n",
    "        self.b = b\n",
    "\n",
    "    def add(self):\n",
    "        return self.a + self.b\n",
    "    def sub(self):\n",
    "        return self.a - self.b\n",
    "    def mul(self):\n",
    "        return self.a * self.b\n",
    "    def div(self):\n",
    "        return self.a / self.b\n",
    "\n",
    "num1 = int(input(\"Enter first number: \"))\n",
    "num2 = int(input(\"Enter second number: \"))\n",
    "print( \"Which operator would you like? \\n \\\n",
    "1. Addition (Enter: 1) \\n \\\n",
    "2. Subtraction (Enter: 2) \\n \\\n",
    "3. Multiplication (Enter: 3) \\n \\\n",
    "4. Division (Enter: 4)\" )\n",
    "obj = SimpleCalculator(num1,num2)\n",
    "operator = str(input(\"Enter the Operator: \"))\n",
    "\n",
    "if operator == \"1\":\n",
    "    result = obj.add()\n",
    "    print(\"You chose Addition.\")\n",
    "    print( \"Added \" + str(num1) + \" by \" + str(num2) + \".\" )\n",
    "    print(\"Result: \", result)\n",
    "\n",
    "elif operator == \"2\":\n",
    "    result = obj.sub()\n",
    "    print(\"You chose Subtraction.\")\n",
    "    print( \"Subtracted \" + str(num1) + \" by \" + str(num2) + \".\"  )\n",
    "    print(\"Result: \", result)\n",
    "\n",
    "elif operator == \"3\":\n",
    "    result = obj.mul()\n",
    "    print(\"You chose Multiplication.\")\n",
    "    print( \"Multiplied \" + str(num1) + \" by \" + str(num2) + \".\" )\n",
    "    print(\"Result: \", result)\n",
    "\n",
    "elif operator == \"4\":\n",
    "    result = obj.div()\n",
    "    print(\"You chose Division.\")\n",
    "    print( \"Divided \" + str(num1) + \" by \" + str(num2) + \".\"  )\n",
    "    print(\"Result: \", result)\n",
    "\n",
    "\n",
    "\n",
    "    \n",
    "\n"
   ]
  },
  {
   "cell_type": "code",
   "execution_count": null,
   "metadata": {},
   "outputs": [],
   "source": []
  }
 ],
 "metadata": {
  "kernelspec": {
   "display_name": "Python 3",
   "language": "python",
   "name": "python3"
  },
  "language_info": {
   "codemirror_mode": {
    "name": "ipython",
    "version": 3
   },
   "file_extension": ".py",
   "mimetype": "text/x-python",
   "name": "python",
   "nbconvert_exporter": "python",
   "pygments_lexer": "ipython3",
   "version": "3.9.7"
  }
 },
 "nbformat": 4,
 "nbformat_minor": 2
}
