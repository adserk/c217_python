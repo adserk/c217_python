{
 "cells": [
  {
   "cell_type": "code",
   "execution_count": 54,
   "metadata": {},
   "outputs": [
    {
     "name": "stdout",
     "output_type": "stream",
     "text": [
      "[4, 19, 14, 5, 12, 7, 20, 14, 15, 14]\n"
     ]
    }
   ],
   "source": [
    "import random \n",
    "n = random.random()\n",
    "\n",
    "randomlist = []\n",
    "for i in range (0,10):\n",
    "    m = random.randint(1,20)\n",
    "    randomlist.append(m)\n",
    "    \n",
    "print(randomlist)\n",
    "\n"
   ]
  },
  {
   "cell_type": "code",
   "execution_count": 55,
   "metadata": {},
   "outputs": [
    {
     "name": "stdout",
     "output_type": "stream",
     "text": [
      "2\n",
      "3\n",
      "4\n",
      "5\n",
      "6\n",
      "7\n"
     ]
    }
   ],
   "source": [
    "r = 1\n",
    "for i in range (6):\n",
    "    r = r + 1\n",
    "    print (r)\n",
    "    \n"
   ]
  },
  {
   "cell_type": "code",
   "execution_count": null,
   "metadata": {},
   "outputs": [],
   "source": [
    "''''Given two integer numbers return their product only if the product is greater than 1000, else return their sum.'''\n",
    "number1 = 30\n",
    "number2 = 20\n",
    "p = number1*number2\n",
    "if p > 1000:\n",
    "    print (p)\n",
    "else: \n",
    "    print (\"The result is =\", number1*number2)"
   ]
  },
  {
   "cell_type": "code",
   "execution_count": null,
   "metadata": {},
   "outputs": [],
   "source": [
    "name = input(\"Enter Employee Name: \")\n",
    "print (name)"
   ]
  },
  {
   "cell_type": "code",
   "execution_count": 62,
   "metadata": {},
   "outputs": [
    {
     "ename": "ValueError",
     "evalue": "invalid literal for int() with base 10: 'r'",
     "output_type": "error",
     "traceback": [
      "\u001b[0;31m---------------------------------------------------------------------------\u001b[0m",
      "\u001b[0;31mValueError\u001b[0m                                Traceback (most recent call last)",
      "\u001b[0;32m/var/folders/lp/4hj1stqn35bdfxzs8ksyb5wm0000gp/T/ipykernel_14441/2511366083.py\u001b[0m in \u001b[0;36m<module>\u001b[0;34m\u001b[0m\n\u001b[1;32m      1\u001b[0m \u001b[0;34m\"\"\"Check if input is less than 1000, more than 1000 or equal to 1000\"\"\"\u001b[0m\u001b[0;34m\u001b[0m\u001b[0;34m\u001b[0m\u001b[0m\n\u001b[0;32m----> 2\u001b[0;31m \u001b[0mn1\u001b[0m \u001b[0;34m=\u001b[0m \u001b[0mint\u001b[0m\u001b[0;34m(\u001b[0m\u001b[0minput\u001b[0m\u001b[0;34m(\u001b[0m\u001b[0;34m\"Enter number 1: \"\u001b[0m\u001b[0;34m)\u001b[0m\u001b[0;34m)\u001b[0m\u001b[0;34m\u001b[0m\u001b[0;34m\u001b[0m\u001b[0m\n\u001b[0m\u001b[1;32m      3\u001b[0m \u001b[0mn2\u001b[0m \u001b[0;34m=\u001b[0m \u001b[0mint\u001b[0m\u001b[0;34m(\u001b[0m\u001b[0minput\u001b[0m\u001b[0;34m(\u001b[0m\u001b[0;34m\"Enter number 2: \"\u001b[0m\u001b[0;34m,\u001b[0m\u001b[0;34m)\u001b[0m\u001b[0;34m)\u001b[0m\u001b[0;34m\u001b[0m\u001b[0;34m\u001b[0m\u001b[0m\n\u001b[1;32m      4\u001b[0m \u001b[0;34m\u001b[0m\u001b[0m\n\u001b[1;32m      5\u001b[0m \u001b[0mprint\u001b[0m \u001b[0;34m(\u001b[0m\u001b[0mtype\u001b[0m\u001b[0;34m(\u001b[0m\u001b[0mn1\u001b[0m\u001b[0;34m)\u001b[0m\u001b[0;34m)\u001b[0m\u001b[0;34m\u001b[0m\u001b[0;34m\u001b[0m\u001b[0m\n",
      "\u001b[0;31mValueError\u001b[0m: invalid literal for int() with base 10: 'r'"
     ]
    }
   ],
   "source": [
    "\"\"\"Check if input is less than 1000, more than 1000 or equal to 1000\"\"\"\n",
    "n1 = int(input(\"Enter number 1: \"))\n",
    "n2 = int(input(\"Enter number 2: \",))\n",
    "\n",
    "print (type(n1))\n",
    "product = n1*n2\n",
    "if product > 1000:\n",
    "    print (\"The product is\", n1*n2, \"which is more than 1000\")\n",
    "elif (product == 1000):\n",
    "    print (\"The product is\", n1*n2)\n",
    "else:\n",
    "    print(\"The product is\", n1*n2, \"which is less than 1000\")"
   ]
  },
  {
   "cell_type": "code",
   "execution_count": null,
   "metadata": {},
   "outputs": [],
   "source": [
    "'''''Write a Python program find a list of integers with exactly two \n",
    "occurrences of nineteen and at least three occurrences of five.''''\n"
   ]
  },
  {
   "cell_type": "code",
   "execution_count": null,
   "metadata": {},
   "outputs": [],
   "source": [
    "L = [19, 19, 15, 5, 3, 5, 5, 2]\n",
    "\n",
    "if 15 in L:\n",
    "    print (\"true\")"
   ]
  },
  {
   "cell_type": "code",
   "execution_count": 63,
   "metadata": {},
   "outputs": [
    {
     "name": "stdout",
     "output_type": "stream",
     "text": [
      "true\n"
     ]
    }
   ],
   "source": [
    "L = [19, 19, 15, 5, 3, 5, 5, 2]\n",
    "nineteen = L.count(19)\n",
    "five = L.count(5)\n",
    "if nineteen == 2 and five >= 3:\n",
    "    print(\"true\")\n",
    "else:\n",
    "    print(\"false\")"
   ]
  },
  {
   "cell_type": "code",
   "execution_count": 56,
   "metadata": {},
   "outputs": [
    {
     "name": "stdout",
     "output_type": "stream",
     "text": [
      "Fifth element is = 5\n",
      "Number of times the fifth element occurs = 3\n",
      "true\n"
     ]
    }
   ],
   "source": [
    "# Write a Python program that accept a list of integers and check the length and the fifth element. \n",
    "# Return true if the length of the list is 8 and fifth element occurs thrice in the said list.\n",
    "\n",
    "List = [19, 19, 15, 5, 5, 5, 1, 2]\n",
    "ListLenght = (len(List))\n",
    "\n",
    "\n",
    "fifth = List[4] #return the fifth element in a list\n",
    "print ('Fifth element is =', fifth)\n",
    "counter = List.count(fifth) # counts number of times the fifth element occurs\n",
    "print('Number of times the fifth element occurs =', counter)\n",
    "if ListLenght == 8 and counter >= 3:\n",
    "    print ('true')\n",
    "else:\n",
    "    print ('false')"
   ]
  },
  {
   "cell_type": "code",
   "execution_count": 57,
   "metadata": {},
   "outputs": [
    {
     "name": "stdout",
     "output_type": "stream",
     "text": [
      "Fifth element is = 5\n",
      "Number of times the fifth element occurs = 3\n",
      "true\n"
     ]
    }
   ],
   "source": [
    "def listcheck (x):\n",
    "    List = x\n",
    "    ListLenght = (len(List))\n",
    "\n",
    "    fifth = List[4] #return the fifth element in a list\n",
    "    print ('Fifth element is =', fifth)\n",
    "    counter = List.count(fifth) # counts number of times the fifth element occurs\n",
    "    print('Number of times the fifth element occurs =', counter)\n",
    "    if ListLenght == 8 and counter >= 3:\n",
    "        print ('true')\n",
    "    else:\n",
    "        print ('false')\n",
    "listcheck([19, 19, 15, 5, 5, 5, 1, 2])"
   ]
  },
  {
   "cell_type": "code",
   "execution_count": null,
   "metadata": {},
   "outputs": [],
   "source": [
    "# Write a Python program that accept an integer test whether an integer greater than 4^4 and which is 4 mod 34\n",
    "4**4 = 256\n",
    "def IntCheck (c):\n",
    "    if c > 4**4:\n",
    "        print ('true')\n",
    "    else:\n",
    "        print ('false')\n",
    "        \n",
    "IntCheck(914)"
   ]
  },
  {
   "cell_type": "code",
   "execution_count": 58,
   "metadata": {},
   "outputs": [
    {
     "name": "stdout",
     "output_type": "stream",
     "text": [
      "Number is odd\n"
     ]
    }
   ],
   "source": [
    "# odd or even\n",
    "a = int(input(\"Enter a number: \"))\n",
    "if a%2 == 0: # the remainder operator checks the left over after dividing by 2\n",
    "    print(\"Number is even\")\n",
    "else:\n",
    "    print(\"Number is odd\")\n",
    "    "
   ]
  },
  {
   "cell_type": "code",
   "execution_count": null,
   "metadata": {},
   "outputs": [],
   "source": [
    "# Write a program (function!) that takes a list and returns a \n",
    "# new list that contains all the elements of the first list minus all the duplicates.\n",
    "def deduplicate (x):\n",
    "    y = []\n",
    "    for i in x:\n",
    "        if i not in y:\n",
    "            y.append(i)\n",
    "            \n",
    "    return y  # returns a list of de-duplicates\n",
    "deduplicate([3,2,4,4,5,5,6,7])\n",
    "            "
   ]
  },
  {
   "cell_type": "code",
   "execution_count": null,
   "metadata": {},
   "outputs": [],
   "source": [
    "# translate the years of birth into ages\n",
    "years_of_birth = [1990, 1991, 1990, 1990, 1992, 1991]\n",
    "ages = []\n",
    "year = 2021\n",
    "for i in years_of_birth:\n",
    "    ages.append(year-i)\n",
    " \n",
    "print(ages)"
   ]
  },
  {
   "cell_type": "code",
   "execution_count": 53,
   "metadata": {},
   "outputs": [
    {
     "name": "stdout",
     "output_type": "stream",
     "text": [
      "[4, 16, 36, 64, 100]\n"
     ]
    }
   ],
   "source": [
    "# Turn a list into one with only even elements\n",
    "a = [1, 4, 9, 16, 25, 36, 49, 64, 81, 100]\n",
    "even = []\n",
    "for i in a:\n",
    "    if i%2 == 0:\n",
    "        even.append(i)\n",
    "print (even)"
   ]
  },
  {
   "cell_type": "code",
   "execution_count": null,
   "metadata": {},
   "outputs": [],
   "source": [
    "# write a program that prints out all the elements of the list that are less than 5.\n",
    "b = [1, 1, 2, 3, 5, 8, 13, 21, 34, 55, 89]\n",
    "c = []\n",
    "for i in b:\n",
    "    if i < 5:\n",
    "        c.append(i)\n",
    "print (c) "
   ]
  },
  {
   "cell_type": "code",
   "execution_count": 52,
   "metadata": {},
   "outputs": [
    {
     "name": "stdout",
     "output_type": "stream",
     "text": [
      "[1, 1, 2, 3, 5, 8, 13, 21, 34, 55, 89, 144, 233, 377, 610, 987, 1597, 2584, 4181, 6765]\n"
     ]
    }
   ],
   "source": [
    "# Write a program that asks the user how many Fibonnaci numbers to generate and then generates them.\n",
    "# The Fibonnaci seqence is a sequence of numbers where the next \n",
    "# number in the sequence is the sum of the previous two numbers in the sequence. \n",
    "# The sequence looks like this: 1, 1, 2, 3, 5, 8, 13, …)\n",
    "\n",
    "num = 20\n",
    "\n",
    "fib = [1,1]\n",
    "for i in range (num-2):\n",
    "    fib.append(fib[i]+fib[i+1])\n",
    "    \n",
    "print(fib)"
   ]
  },
  {
   "cell_type": "code",
   "execution_count": null,
   "metadata": {},
   "outputs": [],
   "source": [
    "# given a list order it into chronological order smallest to largest"
   ]
  },
  {
   "cell_type": "code",
   "execution_count": 51,
   "metadata": {},
   "outputs": [
    {
     "name": "stdout",
     "output_type": "stream",
     "text": [
      "[4, 7, 32, 43, 50, 65, 90, 1999]\n",
      "4\n",
      "7\n",
      "32\n",
      "43\n",
      "50\n",
      "65\n",
      "90\n",
      "1999\n"
     ]
    }
   ],
   "source": [
    "lis = [90, 1999, 4, 50, 32, 65, 7, 43]\n",
    "\n",
    "n = sorted(lis)\n",
    "print (n)\n",
    "for i in n:\n",
    "    print(i)"
   ]
  },
  {
   "cell_type": "code",
   "execution_count": 64,
   "metadata": {},
   "outputs": [
    {
     "data": {
      "text/plain": [
       "[4, 7, 20, 32, 43, 50, 65, 90, 1999]"
      ]
     },
     "execution_count": 64,
     "metadata": {},
     "output_type": "execute_result"
    }
   ],
   "source": [
    "# Find if a number is inside the list and add it if it is not\n",
    "def search_add(x):\n",
    "    n = [4, 7, 32, 43, 50, 65, 90, 1999]\n",
    "    h = x\n",
    "    if h not in n: \n",
    "        n.append(h)\n",
    "    else:\n",
    "        print (\"Number already exist\")\n",
    "    n = sorted(n)   \n",
    "    \n",
    "    return (n)\n",
    "search_add(int(input(\"Input a number to check: \")))"
   ]
  },
  {
   "cell_type": "code",
   "execution_count": null,
   "metadata": {},
   "outputs": [],
   "source": [
    "# Birthday Dictionaries\n",
    "birthday_dictionary = {\"Ned\" : '03/02/1987'}\n",
    "print(birthday_dictionary.get('Ned', 'No element exist'))\n",
    "print(birthday_dictionary.get('ned', 'No element exist'))  #if cannot find 'ned' print 'No element exist'  \n",
    "\n"
   ]
  },
  {
   "cell_type": "code",
   "execution_count": null,
   "metadata": {},
   "outputs": [],
   "source": [
    "#Print characters from a string that are present at an even index number\n",
    "#Write a program to accept a string from the user and display characters that are present at an even index number.\n",
    "\n",
    "#For example, str = \"pynative\" so you should display ‘p’, ‘n’, ‘t’, ‘v’.\n",
    "\n",
    "str = \"pynative\"\n",
    "\n",
    "j = 0\n",
    "for i in str:\n",
    "    if (j % 2) == 0: \n",
    "        print(i)\n",
    "    j+=1\n",
    "print(\"\\n\")\n",
    "\n",
    "#Using the enumerate() function \n",
    "for count, value in enumerate(str):\n",
    "    #print(count, value)\n",
    "    if count % 2 == 0:\n",
    "        print(value)"
   ]
  },
  {
   "cell_type": "code",
   "execution_count": null,
   "metadata": {},
   "outputs": [],
   "source": [
    "#Iterate characters in Reverse order:\n",
    "string_name = \"GEEKS\"\n",
    "\n",
    "for element in string_name[ : :-1]:\n",
    "    print(element)"
   ]
  },
  {
   "cell_type": "code",
   "execution_count": 59,
   "metadata": {},
   "outputs": [
    {
     "name": "stdout",
     "output_type": "stream",
     "text": [
      "tive\n"
     ]
    }
   ],
   "source": [
    "#Remove first n characters from a string \n",
    "string=\"pynative\"\n",
    "string_length=len(string)\n",
    "substring=string[4:]\n",
    "print(substring)"
   ]
  },
  {
   "cell_type": "code",
   "execution_count": 79,
   "metadata": {},
   "outputs": [
    {
     "name": "stdout",
     "output_type": "stream",
     "text": [
      "same\n",
      "different\n"
     ]
    }
   ],
   "source": [
    "#Check if the first and last number of a list is the same\n",
    "#Given\n",
    "numbers_x = [10, 20, 30, 40, 10]\n",
    "numbers_y = [75, 65, 35, 75, 30]\n",
    "\n",
    "def check(numbers_x):\n",
    "\n",
    "    last_x = len(numbers_x) - 1\n",
    "\n",
    "    if numbers_x[last_x] == numbers_x[0]:\n",
    "        print (\"same\")\n",
    "    else:\n",
    "        print(\"different\")\n",
    "    \n",
    "check(numbers_x)\n",
    "check(numbers_y)"
   ]
  },
  {
   "cell_type": "code",
   "execution_count": 99,
   "metadata": {},
   "outputs": [
    {
     "name": "stdout",
     "output_type": "stream",
     "text": [
      "numebrs divisible by 5 are: [10, 20, 55]\n"
     ]
    }
   ],
   "source": [
    "#Display numbers divisible by 5 from a list\n",
    "x = [10, 20, 33, 46, 55]\n",
    "\n",
    "def div_5(x):\n",
    "    div = []\n",
    "    for i in x:\n",
    "        if i % 5 == 0:\n",
    "            #print (i)\n",
    "            div.append(i)\n",
    "    return div\n",
    "\n",
    "l = div_5(x)\n",
    "print (\"numebrs divisible by 5 are:\", l )"
   ]
  },
  {
   "cell_type": "code",
   "execution_count": 114,
   "metadata": {},
   "outputs": [
    {
     "name": "stdout",
     "output_type": "stream",
     "text": [
      "Emma appears 2 time(s)\n"
     ]
    }
   ],
   "source": [
    "#Return the count of a given substring from a string\n",
    "str_x = \"Emma is good developer. Emma is a writer\"\n",
    "substr = \"Emma\"\n",
    "#count() is case sensitive\n",
    "def count_substring(str,substring):\n",
    "    \n",
    "    c = str.count(substring)\n",
    "    return c\n",
    "\n",
    "k =  count_substring(str_x, substr)\n",
    "print ( substr, \"appears\", k , \"time(s)\" )"
   ]
  },
  {
   "cell_type": "code",
   "execution_count": 124,
   "metadata": {},
   "outputs": [
    {
     "name": "stdout",
     "output_type": "stream",
     "text": [
      "original number 121\n",
      "Given number palindrome\n"
     ]
    }
   ],
   "source": [
    "# Check Palindrome Number\n",
    "# Write a program to check if the given number is a palindrome number.\n",
    "# A palindrome number is a number that is same after reverse. For example 545, is the palindrome numbers\n",
    "\n",
    "def palindrome(number):\n",
    "    print(\"original number\", number)\n",
    "    original_num = number\n",
    "    \n",
    "    # reverse the given number\n",
    "    reverse_num = 0\n",
    "    while number > 0:\n",
    "        remainder = number % 10\n",
    "        reverse_num = (reverse_num * 10) + remainder\n",
    "        number = number // 10\n",
    "\n",
    "    # check numbers\n",
    "    if original_num == reverse_num:\n",
    "        print(\"Given number palindrome\")\n",
    "    else:\n",
    "        print(\"Given number is not palindrome\")\n",
    "\n",
    "palindrome(121)\n"
   ]
  },
  {
   "cell_type": "markdown",
   "metadata": {},
   "source": [
    "## Finding common numbers between two lists "
   ]
  },
  {
   "cell_type": "code",
   "execution_count": 7,
   "metadata": {},
   "outputs": [
    {
     "name": "stdout",
     "output_type": "stream",
     "text": [
      "9\n",
      "100\n",
      "{9, 100}\n",
      "{64, 1, 4, 36, 100, 9, 10, 46, 16, 49, 81, 20, 25}\n",
      "{64, 1, 4, 10, 16, 81, 20, 25, 36, 46, 49}\n"
     ]
    }
   ],
   "source": [
    "# Find common numbers between two lists\n",
    "lst1 = [1, 4, 9, 16, 25, 36, 49, 64, 81, 100]\n",
    "lst2 = [10, 20, 9, 46, 100]\n",
    "\n",
    "for i in lst2:\n",
    "    if i in lst1:\n",
    "        print(i)\n",
    "\n",
    "# Or convert into sets and find the common number\n",
    "set1 = set(lst1)\n",
    "set2 = set(lst2)\n",
    "\n",
    "# Common number\n",
    "print(set1 & set2)\n",
    "\n",
    "# All colours in both sets (All Unique)\n",
    "print(set1 | set2)\n",
    "\n",
    "# Unique Numbers between each set combined\n",
    "print(set1 ^ set2)"
   ]
  },
  {
   "cell_type": "code",
   "execution_count": null,
   "metadata": {},
   "outputs": [],
   "source": []
  }
 ],
 "metadata": {
  "kernelspec": {
   "display_name": "Python 3 (ipykernel)",
   "language": "python",
   "name": "python3"
  },
  "language_info": {
   "codemirror_mode": {
    "name": "ipython",
    "version": 3
   },
   "file_extension": ".py",
   "mimetype": "text/x-python",
   "name": "python",
   "nbconvert_exporter": "python",
   "pygments_lexer": "ipython3",
   "version": "3.9.7"
  }
 },
 "nbformat": 4,
 "nbformat_minor": 4
}
