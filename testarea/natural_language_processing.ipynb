{
 "cells": [
  {
   "cell_type": "markdown",
   "metadata": {},
   "source": [
    "# Natural Language Processing"
   ]
  },
  {
   "cell_type": "code",
   "execution_count": null,
   "metadata": {},
   "outputs": [],
   "source": [
    "import nltk"
   ]
  },
  {
   "cell_type": "code",
   "execution_count": 2,
   "metadata": {},
   "outputs": [
    {
     "name": "stdout",
     "output_type": "stream",
     "text": [
      "showing info https://raw.githubusercontent.com/nltk/nltk_data/gh-pages/index.xml\n"
     ]
    },
    {
     "data": {
      "text/plain": [
       "True"
      ]
     },
     "execution_count": 2,
     "metadata": {},
     "output_type": "execute_result"
    }
   ],
   "source": [
    "import nltk\n",
    "nltk.download()"
   ]
  },
  {
   "cell_type": "code",
   "execution_count": null,
   "metadata": {},
   "outputs": [],
   "source": [
    "import nltk\n",
    "from nltk.corpus import stopwords\n",
    "stop_words = set(stopwords.words('english'))"
   ]
  },
  {
   "cell_type": "code",
   "execution_count": 10,
   "metadata": {},
   "outputs": [
    {
     "name": "stdout",
     "output_type": "stream",
     "text": [
      "tells\n",
      "tell\n"
     ]
    }
   ],
   "source": [
    "from nltk.stem import WordNetLemmatizer \n",
    "lemmatizer = WordNetLemmatizer() \n",
    " \n",
    "word = \"tells\"\n",
    "word_lemmatized =  lemmatizer.lemmatize(word)\n",
    "print(word) #original word\n",
    "print(word_lemmatized) #lemmatized word"
   ]
  },
  {
   "cell_type": "code",
   "execution_count": 12,
   "metadata": {},
   "outputs": [
    {
     "data": {
      "text/plain": [
       "['All', 'work', 'and', 'no', 'play', 'makes', 'jack', 'a', 'boy', '.']"
      ]
     },
     "execution_count": 12,
     "metadata": {},
     "output_type": "execute_result"
    }
   ],
   "source": [
    "from nltk.tokenize import word_tokenize\n",
    "\n",
    "data = \"All work and no play makes jack a boy.\"\n",
    "\n",
    "word_tokenize(data)"
   ]
  },
  {
   "cell_type": "markdown",
   "metadata": {},
   "source": [
    "# NLTK Stop words\n"
   ]
  },
  {
   "cell_type": "code",
   "execution_count": 14,
   "metadata": {},
   "outputs": [
    {
     "name": "stdout",
     "output_type": "stream",
     "text": [
      "['arabic', 'azerbaijani', 'bengali', 'danish', 'dutch', 'english', 'finnish', 'french', 'german', 'greek', 'hungarian', 'indonesian', 'italian', 'kazakh', 'nepali', 'norwegian', 'portuguese', 'romanian', 'russian', 'slovene', 'spanish', 'swedish', 'tajik', 'turkish']\n"
     ]
    }
   ],
   "source": [
    "from nltk.corpus import stopwords\n",
    "print(stopwords.fileids())\n"
   ]
  },
  {
   "cell_type": "code",
   "execution_count": 17,
   "metadata": {},
   "outputs": [
    {
     "name": "stdout",
     "output_type": "stream",
     "text": [
      "{'or', 't', 'up', 'not', \"wasn't\", 'shan', 'while', 'before', 'me', 'who', \"didn't\", 'hasn', 'what', 'mustn', 'don', 'their', 'now', 'having', \"shouldn't\", 'your', 'he', 'these', \"that'll\", 'can', 'each', 'no', 'wasn', \"shan't\", 'this', 'there', 'of', 'then', 'in', 'haven', 'whom', 'mightn', 'those', 'him', 'm', 'just', 'into', 'than', 'too', 'about', 'over', \"aren't\", \"won't\", \"you'd\", 'o', 'them', 'the', \"mightn't\", 'few', 'itself', 'here', 'after', 'been', 'both', 'on', 'wouldn', 'we', \"haven't\", 'further', 'it', 'herself', 're', 'will', \"you'll\", 'some', 'that', 'to', 'weren', 'our', 'again', 'ours', 'yours', 'ma', 'has', 'y', 'why', 'am', 'because', 'other', 'aren', 'her', 'such', 'for', 'more', \"you're\", 'they', 'off', 'down', 'doing', 'and', \"she's\", \"don't\", 'by', 'below', 'did', 'do', 'theirs', 'only', 'which', 'have', 'couldn', 'll', 'be', 'so', 'with', 'shouldn', 'was', 'isn', \"it's\", 'myself', 'being', 'against', \"couldn't\", 'if', 'a', 'during', 'from', 'ain', 'himself', 'is', 'my', 'any', \"wouldn't\", \"you've\", 'through', 'most', \"hasn't\", 'are', \"hadn't\", 'should', 'themselves', 'were', 'how', 'his', 'as', 'd', \"weren't\", 've', 'hadn', 'all', 'ourselves', 'where', 'yourselves', 'between', \"needn't\", 'very', 'does', 'above', \"mustn't\", 'own', 'you', \"isn't\", 'an', 'when', 's', 'didn', 'under', 'she', 'its', 'yourself', 'once', 'but', 'same', 'i', 'at', 'won', 'doesn', 'nor', 'had', 'until', \"doesn't\", 'needn', \"should've\", 'hers', 'out'}, "
     ]
    }
   ],
   "source": [
    "from nltk.corpus import stopwords\n",
    "stopwords = set(stopwords.words(\"english\"))\n",
    "print(stopwords, end=', ')"
   ]
  },
  {
   "cell_type": "code",
   "execution_count": 18,
   "metadata": {},
   "outputs": [
    {
     "data": {
      "text/plain": [
       "179"
      ]
     },
     "execution_count": 18,
     "metadata": {},
     "output_type": "execute_result"
    }
   ],
   "source": [
    "len(stopwords)"
   ]
  },
  {
   "cell_type": "code",
   "execution_count": 23,
   "metadata": {},
   "outputs": [
    {
     "name": "stdout",
     "output_type": "stream",
     "text": [
      "['All', 'work', 'play', 'makes', 'jack', 'dull', 'boy', '.']\n"
     ]
    }
   ],
   "source": [
    "from nltk.tokenize import word_tokenize\n",
    "from nltk.corpus import stopwords\n",
    "\n",
    "data = \"All work and no play makes jack a dull boy.\"\n",
    "stopwords = set(stopwords.words('english'))\n",
    "\n",
    "\n",
    "words = word_tokenize(data)\n",
    "wordsFiltered = []\n",
    "\n",
    "for w in words:\n",
    "    if w not in stopwords:\n",
    "        wordsFiltered.append(w)\n",
    "\n",
    "# Print stopword filtered text\n",
    "print(wordsFiltered)\n",
    "\n"
   ]
  },
  {
   "cell_type": "markdown",
   "metadata": {},
   "source": [
    "## Lemmatization"
   ]
  },
  {
   "cell_type": "code",
   "execution_count": 27,
   "metadata": {},
   "outputs": [
    {
     "name": "stdout",
     "output_type": "stream",
     "text": [
      "study : study\n",
      "studying : study\n",
      "studies : study\n",
      "studied : study\n"
     ]
    }
   ],
   "source": [
    "# Identify root word\n",
    "\n",
    "from nltk.stem import WordNetLemmatizer\n",
    "wordnet_lemmatizer = WordNetLemmatizer()\n",
    "\n",
    "sentence_words = [ 'study', 'studying', 'studies', 'studied' ]  # Root word is study\n",
    "\n",
    "for word in sentence_words:\n",
    "    print(word + ' : ' + wordnet_lemmatizer.lemmatize(word, pos=\"v\"))"
   ]
  },
  {
   "cell_type": "code",
   "execution_count": null,
   "metadata": {},
   "outputs": [],
   "source": []
  }
 ],
 "metadata": {
  "interpreter": {
   "hash": "a8822641e88d7c74114f38a155dc8686f9f41cc7c790ba54cfc07cc82201c3e7"
  },
  "kernelspec": {
   "display_name": "Python 3.9.7 ('base')",
   "language": "python",
   "name": "python3"
  },
  "language_info": {
   "codemirror_mode": {
    "name": "ipython",
    "version": 3
   },
   "file_extension": ".py",
   "mimetype": "text/x-python",
   "name": "python",
   "nbconvert_exporter": "python",
   "pygments_lexer": "ipython3",
   "version": "3.9.7"
  },
  "orig_nbformat": 4
 },
 "nbformat": 4,
 "nbformat_minor": 2
}
