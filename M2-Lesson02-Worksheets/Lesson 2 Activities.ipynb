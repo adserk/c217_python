{
 "cells": [
  {
   "cell_type": "markdown",
   "metadata": {},
   "source": [
    "# Lesson 2 Activities\n",
    "The activities in this page will allow you to demonstrate your ability to:\n",
    "\n",
    "* Create a Python script that uses a `for` loop to repeat an activity until a specific criterion is met.\n",
    "* Create a Python script that uses a `while` loop to repeat an activity as long as a specific criterion holds true."
   ]
  },
  {
   "cell_type": "markdown",
   "metadata": {},
   "source": [
    "## Activity 1\n",
    "Given the list `fruit_list`, write a script that iterates through the list and prints each item on a separate line."
   ]
  },
  {
   "cell_type": "code",
   "execution_count": 2,
   "metadata": {},
   "outputs": [],
   "source": [
    "fruit_list = [\"apple\", \"banana\", \"cherry\", \"gooseberry\", \"kumquat\", \"orange\", \"pineapple\"]\n",
    "\n",
    "# your code here"
   ]
  },
  {
   "cell_type": "markdown",
   "metadata": {},
   "source": [
    "## Activity 2\n",
    "Write a script that asks the user for a string and displays the characters of the string to the user, with each character on a new line.\n",
    "\n",
    "For example, if the input is `Hello`, the output should be:\n",
    "\n",
    "    H\n",
    "    e\n",
    "    l\n",
    "    l\n",
    "    o"
   ]
  },
  {
   "cell_type": "code",
   "execution_count": 1,
   "metadata": {},
   "outputs": [
    {
     "name": "stdout",
     "output_type": "stream",
     "text": [
      "H\n",
      "e\n",
      "l\n",
      "l\n",
      "o\n"
     ]
    }
   ],
   "source": [
    "# your code here\n",
    "user_input = input('Enter a string')\n",
    "for i in user_input:\n",
    "    print(i)"
   ]
  },
  {
   "cell_type": "markdown",
   "metadata": {},
   "source": [
    "## Activity 3\n",
    "Write a script that computes the length of a string without using the `len()` function."
   ]
  },
  {
   "cell_type": "code",
   "execution_count": 2,
   "metadata": {},
   "outputs": [
    {
     "name": "stdout",
     "output_type": "stream",
     "text": [
      "5\n"
     ]
    }
   ],
   "source": [
    "# your code here\n",
    "word = 'hello'\n",
    "print(len(word))"
   ]
  },
  {
   "cell_type": "markdown",
   "metadata": {},
   "source": [
    "## Activity 4\n",
    "Create a program that starts with a list of strings, identifies all the strings with more than two characters, stores the results in another list, and displays the new list.\n",
    "\n",
    "For example:\n",
    "\n",
    "    a = [\"a\", \"bc\", \"rye\", \"hello\", \"c\", \"\"]\n",
    "\n",
    "Output:\n",
    "\n",
    "    [\"rye\", \"hello\"]"
   ]
  },
  {
   "cell_type": "code",
   "execution_count": 3,
   "metadata": {},
   "outputs": [
    {
     "name": "stdout",
     "output_type": "stream",
     "text": [
      "['rye', 'hello']\n"
     ]
    }
   ],
   "source": [
    "# your code here\n",
    "a = [\"a\", \"bc\", \"rye\", \"hello\", \"c\", \"\"]\n",
    "new_list = []\n",
    "for i in a:\n",
    "    if len(i) > 2:\n",
    "        new_list.append(i)\n",
    "print(new_list)\n"
   ]
  },
  {
   "cell_type": "markdown",
   "metadata": {},
   "source": [
    "## Activity 5\n",
    "Write two scripts, each of which displays all numbers divisible by 50 between 100 and 1000 (inclusive).\n",
    "* Use the `range` function with `for` in one script.\n",
    "* Use `while` without `range` in the other script.\n",
    "\n",
    "Both scripts should have identical outputs."
   ]
  },
  {
   "cell_type": "code",
   "execution_count": 5,
   "metadata": {},
   "outputs": [
    {
     "name": "stdout",
     "output_type": "stream",
     "text": [
      "[100, 150, 200, 250, 300, 350, 400, 450, 500, 550, 600, 650, 700, 750, 800, 850, 900, 950, 1000]\n"
     ]
    }
   ],
   "source": [
    "# script 1: range\n",
    "# your code here\n",
    "lst_50 = []\n",
    "for i in range(100, 1001):\n",
    "    if (i%50) == 0:\n",
    "        lst_50.append(i)\n",
    "print(lst_50)\n"
   ]
  },
  {
   "cell_type": "code",
   "execution_count": 9,
   "metadata": {},
   "outputs": [
    {
     "name": "stdout",
     "output_type": "stream",
     "text": [
      "[100, 150, 200, 250, 300, 350, 400, 450, 500, 550, 600, 650, 700, 750, 800, 850, 900, 950, 1000]\n"
     ]
    }
   ],
   "source": [
    "# script 2: while\n",
    "# your code here\n",
    "lst2_50 = []\n",
    "j = 100\n",
    "while j < 1001:\n",
    "    if (j % 50) == 0:\n",
    "        lst2_50.append(j)\n",
    "    j += 1\n",
    "print(lst2_50)\n"
   ]
  },
  {
   "cell_type": "markdown",
   "metadata": {},
   "source": [
    "## Activity 6\n",
    "Create a script that computes the sum of all numbers between 0 and 100."
   ]
  },
  {
   "cell_type": "code",
   "execution_count": 15,
   "metadata": {},
   "outputs": [
    {
     "data": {
      "text/plain": [
       "5050"
      ]
     },
     "execution_count": 15,
     "metadata": {},
     "output_type": "execute_result"
    }
   ],
   "source": [
    "# your code here\n",
    "lst = []\n",
    "for i in range (0,101): # Inclusive of 100\n",
    "    lst.append(i)\n",
    "sum(lst)\n",
    "\n"
   ]
  },
  {
   "cell_type": "markdown",
   "metadata": {},
   "source": [
    "## Activity 7\n",
    "Create a script that computes the factorial of any given number."
   ]
  },
  {
   "cell_type": "code",
   "execution_count": 18,
   "metadata": {},
   "outputs": [
    {
     "data": {
      "text/plain": [
       "120"
      ]
     },
     "execution_count": 18,
     "metadata": {},
     "output_type": "execute_result"
    }
   ],
   "source": [
    "# your code here\n",
    "import math\n",
    "number = 5\n",
    "math.factorial(number)"
   ]
  },
  {
   "cell_type": "markdown",
   "metadata": {},
   "source": [
    "##  Activity 8\n",
    "Starting with the defined `fruit_list` in the code block below, update the script to perform the following tasks.\n",
    "\n",
    "1. Prompt the user to enter the name of a fruit.\n",
    "1. If the fruit is in `fruit_list`, display an appropriate message to the user and tell the user its index value in the list.\n",
    "1. If the fruit is not in `fruit_list`, display an appropriate message to the user and prompt them to try again.\n",
    "1. The script should repeat itself until the user enters a stop word at the prompt.\n",
    "\n",
    "**Tip:** It's always a good idea to tell the user how to end a loop!"
   ]
  },
  {
   "cell_type": "code",
   "execution_count": 27,
   "metadata": {},
   "outputs": [],
   "source": [
    "fruit_list = [\"apple\", \"banana\", \"cherry\", \"gooseberry\", \"kumquat\", \"orange\", \"pineapple\"]\n",
    "\n",
    "# your code here\n",
    "fruit_name = input(\"Enter a fruit: \")\n",
    "\n",
    "for i in fruit_list:\n",
    "    while fruit_name != 'stop':\n",
    "        if (i == fruit_name):\n",
    "            print(fruit_name + \" is in the list\")\n",
    "        \n",
    "        else:\n",
    "            print(fruit_name + \" is not in the list\")\n",
    "        fruit_name = input(\"Try again. Enter a fruit: \")"
   ]
  },
  {
   "cell_type": "code",
   "execution_count": 37,
   "metadata": {},
   "outputs": [
    {
     "name": "stdout",
     "output_type": "stream",
     "text": [
      "burger is not in the list\n"
     ]
    }
   ],
   "source": [
    "fruit_name = input(\"Enter a fruit: \")\n",
    "\n",
    "while fruit_name != 'stop':\n",
    "    for i in fruit_list:\n",
    "        if fruit_name in fruit_list:\n",
    "            print(fruit_name + \" is in the list\")\n",
    "            fruit_name = input(\"Enter a fruit: \")\n",
    "        elif fruit_name == 'stop':\n",
    "            exit\n",
    "        else:\n",
    "            print(fruit_name + \" is not in the list\")\n",
    "            \n",
    "            fruit_name = input(\"Try again. Enter a fruit: \")\n",
    "    "
   ]
  },
  {
   "cell_type": "markdown",
   "metadata": {},
   "source": [
    "## Activity 9\n",
    "Create a script that asks the user for a variable number of values and displays the sum of those values to the user. \n",
    "\t\n",
    "The program should prompt the user for values until the user enters the word \"quit\" (uppercase or lowercase), display the values used in the calculation, and then display the total of those values."
   ]
  },
  {
   "cell_type": "code",
   "execution_count": 41,
   "metadata": {},
   "outputs": [
    {
     "name": "stdout",
     "output_type": "stream",
     "text": [
      "[5, 7, 3, 2]\n",
      "Total:  17\n"
     ]
    }
   ],
   "source": [
    "# your code here\n",
    "lst = []\n",
    "user_input = input(\"Enter a number or 'quit' to exit: \")\n",
    "num = int(user_input)\n",
    "while user_input != 'quit':\n",
    "    lst.append(int(user_input))\n",
    "    user_input= input(\"Enter a number or 'quit' to exit: \")\n",
    "\n",
    "print(lst)\n",
    "print(\"Total: \", sum(lst))"
   ]
  },
  {
   "cell_type": "markdown",
   "metadata": {},
   "source": [
    "## Activity 10\n",
    "Write a script that asks the user for an integer value and then displays the multiplication table of that input number from 1 through the integer squared."
   ]
  },
  {
   "cell_type": "code",
   "execution_count": 51,
   "metadata": {},
   "outputs": [
    {
     "name": "stdout",
     "output_type": "stream",
     "text": [
      "Count Table:  [1, 2, 3, 4, 5, 6, 7, 8, 9, 10, 11, 12, 13]\n",
      "Number Table:  [4, 5, 6, 7, 8, 9, 10, 11, 12, 13, 14, 15, 16]\n",
      "Multiplication Table:  [4, 10, 18, 28, 40, 54, 70, 88, 108, 130, 154, 180, 208]\n"
     ]
    }
   ],
   "source": [
    "# your code here\n",
    "integer = 4\n",
    "integer_sq = 4 ** 2\n",
    "count = 1\n",
    "mul_tab = []\n",
    "count_tab = []\n",
    "num_tab = []\n",
    "for i in range (integer,integer_sq+1):\n",
    "    mul_tab.append(i * count)\n",
    "    count_tab.append(count)\n",
    "    num_tab.append(i)\n",
    "    count += 1\n",
    "print(\"Count Table: \", count_tab)\n",
    "print(\"Number Table: \", num_tab)\n",
    "print(\"Multiplication Table: \", mul_tab)"
   ]
  },
  {
   "cell_type": "markdown",
   "metadata": {},
   "source": [
    "## Activity 11\n",
    "Create a script that identifies all prime numbers between 0 and 100. "
   ]
  },
  {
   "cell_type": "code",
   "execution_count": 89,
   "metadata": {},
   "outputs": [
    {
     "name": "stdout",
     "output_type": "stream",
     "text": [
      "[2, 3, 5, 7, 11, 13, 17, 19, 23, 29, 31, 37, 41, 43, 47, 53, 59, 61, 67, 71, 73, 79, 83, 89, 97]\n"
     ]
    }
   ],
   "source": [
    "# your code here\n",
    "#  A prime number is a number that can only be divided by itself and 1 without remainders.\n",
    "lower_limit = 2\n",
    "upper_limit = 100\n",
    "prime_lst = []\n",
    "\n",
    "for number in range (lower_limit, upper_limit + 1):\n",
    "\n",
    "    for i in range (lower_limit,number):\n",
    "        if (number % i) == 0 and (number % 1) == 0:\n",
    "            break \n",
    "    else:\n",
    "        prime_lst.append(number)\n",
    "print(prime_lst)\n"
   ]
  },
  {
   "cell_type": "markdown",
   "metadata": {},
   "source": [
    "## Activity 12\n",
    "Write a script that calculates the greatest common denominator between two numbers.\n",
    "\n",
    "For example, given the numbers 18 and 27, the greatest common denominator is 9."
   ]
  },
  {
   "cell_type": "code",
   "execution_count": 100,
   "metadata": {},
   "outputs": [
    {
     "data": {
      "text/plain": [
       "9"
      ]
     },
     "execution_count": 100,
     "metadata": {},
     "output_type": "execute_result"
    }
   ],
   "source": [
    "# your code here\n",
    "# modulus is found by: \n",
    "# a / b = c , if c = 1.35, subtract the whole number integer (1) from c, then multiply by the initial divisor (b)\n",
    "num1 = 18\n",
    "num2 = 27\n",
    "def gcd(x,y):\n",
    "    while(y):\n",
    "        x, y = y, x % y\n",
    "        # print(y)\n",
    "        # print (x)\n",
    "    return x\n",
    "\n",
    "gcd(num1,num2)\n",
    "\n",
    "\n",
    "\n",
    "\n"
   ]
  },
  {
   "cell_type": "markdown",
   "metadata": {},
   "source": [
    "## Activity 13\n",
    "Write a script that computes the frequency of each digit in a given integer.\n",
    "\n",
    "For example, if the input number is 334, the output should be:\n",
    "\n",
    "    3 occurs 2 times \n",
    "    4 occurs 1 time"
   ]
  },
  {
   "cell_type": "code",
   "execution_count": 105,
   "metadata": {},
   "outputs": [
    {
     "name": "stdout",
     "output_type": "stream",
     "text": [
      "Counter({'3': 2, '4': 1})\n",
      "3 occurs 2 times.\n",
      "4 occurs 1 times.\n"
     ]
    }
   ],
   "source": [
    "# your code here\n",
    "from collections import Counter\n",
    "number = 334\n",
    "lst = []\n",
    "for i in str(number):\n",
    "    lst.append(i)\n",
    "lst\n",
    "\n",
    "# Using Counter to count the number of frequency as dictionary\n",
    "count = Counter(lst)\n",
    "print(count)\n",
    "\n",
    "# Loop through dictionary as key-value pairs\n",
    "for key, value in count.items():\n",
    "    print(str(key) + \" occurs \" + str(value) + \" times.\")"
   ]
  },
  {
   "cell_type": "markdown",
   "metadata": {},
   "source": [
    "## Activity 14\n",
    "\n",
    "Write a script that calculates the lowest common multiple of two given integers.\n",
    "\n",
    "For example, given the values 4 and 6, the lowest common multiple is 12."
   ]
  },
  {
   "cell_type": "code",
   "execution_count": 107,
   "metadata": {},
   "outputs": [
    {
     "name": "stdout",
     "output_type": "stream",
     "text": [
      "7\n",
      "8\n",
      "9\n",
      "10\n",
      "11\n",
      "12\n"
     ]
    },
    {
     "data": {
      "text/plain": [
       "12"
      ]
     },
     "execution_count": 107,
     "metadata": {},
     "output_type": "execute_result"
    }
   ],
   "source": [
    "# your code here\n",
    "def lcm(x, y):\n",
    "\n",
    "   # choose the greater number\n",
    "   if x > y:\n",
    "       greater = x\n",
    "   else:\n",
    "       greater = y\n",
    "\n",
    "   while(True):\n",
    "       # if both numbers are divisible by the same number then \n",
    "       # the condition is satisfied and exit the while loop\n",
    "       if((greater % x == 0) and (greater % y == 0)):\n",
    "           lcm = greater\n",
    "           break\n",
    "       greater += 1\n",
    "\n",
    "   return lcm\n",
    "num1 = 4\n",
    "num2 = 6\n",
    "lcm(num1,num2)"
   ]
  },
  {
   "cell_type": "markdown",
   "metadata": {},
   "source": [
    "## Activity 15\n",
    "Write a script that determines if an input number can be expressed as the sum of two prime numbers. \n",
    "\n",
    "For example, the number `10` can be expressed as the sum of two prime numbers:\n",
    "* 10 = 3 + 7 : both prime numbers \n",
    "* 10 = 5 + 5 : both prime numbers \n",
    "\n",
    "However, the number `11` cannot be:\n",
    "* 11 = 1 + 10 : neither 1 nor 10 are prime numbers\n",
    "* 11 = 2 + 9 : 9 is not a prime number\n",
    "* 11 = 3 + 8 : 8 is not a prime number\n",
    "* 11 = 4 + 7 : 4 is not a prime number\n",
    "* 11 = 5 + 6 : 6 is not a prime number"
   ]
  },
  {
   "cell_type": "code",
   "execution_count": null,
   "metadata": {},
   "outputs": [],
   "source": [
    "# your code here"
   ]
  }
 ],
 "metadata": {
  "kernelspec": {
   "display_name": "Python 3",
   "language": "python",
   "name": "python3"
  },
  "language_info": {
   "codemirror_mode": {
    "name": "ipython",
    "version": 3
   },
   "file_extension": ".py",
   "mimetype": "text/x-python",
   "name": "python",
   "nbconvert_exporter": "python",
   "pygments_lexer": "ipython3",
   "version": "3.9.7"
  }
 },
 "nbformat": 4,
 "nbformat_minor": 2
}
